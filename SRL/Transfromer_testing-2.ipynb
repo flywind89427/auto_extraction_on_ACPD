{
 "cells": [
  {
   "cell_type": "code",
   "execution_count": 1,
   "id": "802e3962",
   "metadata": {},
   "outputs": [
    {
     "name": "stdout",
     "output_type": "stream",
     "text": [
      "pytorch test:Ture\n",
      "Device name:NVIDIA GeForce GTX 1080 Ti\n"
     ]
    }
   ],
   "source": [
    "import torch\n",
    "cuda_ava = \"Ture\" if torch.cuda.is_available() else \"False\"\n",
    "cuda_device = torch.cuda.get_device_name()\n",
    "print(\"pytorch test:\"+ cuda_ava +\"\\nDevice name:\"+cuda_device)"
   ]
  },
  {
   "cell_type": "code",
   "execution_count": 2,
   "id": "d29f618f",
   "metadata": {},
   "outputs": [],
   "source": [
    "from transformers import BertTokenizer, BertModel, BertForMaskedLM\n",
    "import transformers"
   ]
  },
  {
   "cell_type": "code",
   "execution_count": 3,
   "id": "01db6035",
   "metadata": {},
   "outputs": [],
   "source": [
    "import pandas as pd\n",
    "import numpy as np\n",
    "import torch.nn as nn\n",
    "from torch.utils.data import Dataset\n",
    "from torch.utils.data import DataLoader\n",
    "import torch.optim as optim\n",
    "import torch.nn.functional as F\n",
    "#from torchsummary import summary\n",
    "from tqdm import tqdm"
   ]
  },
  {
   "cell_type": "code",
   "execution_count": 4,
   "id": "c7cd5c36",
   "metadata": {},
   "outputs": [],
   "source": [
    "class BertDataset(Dataset):\n",
    "    def __init__(self, tokenizer,max_length):\n",
    "        super(BertDataset, self).__init__()\n",
    "        #self.root_dir=root_dir\n",
    "        self.train_csv=pd.read_csv('https://github.com/clairett/pytorch-sentiment-classification/raw/master/data/SST2/train.tsv', delimiter='\\t', header=None)\n",
    "        self.tokenizer=tokenizer\n",
    "        self.target=self.train_csv.iloc[:,1]\n",
    "        self.max_length=max_length\n",
    "        \n",
    "    def __len__(self):\n",
    "        return len(self.train_csv)\n",
    "    \n",
    "    def __getitem__(self, index):\n",
    "        \n",
    "        text1 = self.train_csv.iloc[index,0]\n",
    "        \n",
    "        inputs = self.tokenizer.encode_plus(\n",
    "            text1 ,\n",
    "            None,\n",
    "            pad_to_max_length=True,\n",
    "            add_special_tokens=True,\n",
    "            return_attention_mask=True,\n",
    "            max_length=self.max_length,\n",
    "        )\n",
    "        ids = inputs[\"input_ids\"]\n",
    "        token_type_ids = inputs[\"token_type_ids\"]\n",
    "        mask = inputs[\"attention_mask\"]\n",
    "\n",
    "        return {\n",
    "            'ids': torch.tensor(ids, dtype=torch.long).cuda(),\n",
    "            'mask': torch.tensor(mask, dtype=torch.long).cuda(),\n",
    "            'token_type_ids': torch.tensor(token_type_ids, dtype=torch.long).cuda(),\n",
    "            'target': torch.tensor(self.train_csv.iloc[index, 1], dtype=torch.long).cuda()\n",
    "            }\n",
    "tokenizer = transformers.BertTokenizer.from_pretrained(\"bert-base-uncased\")\n",
    "\n",
    "dataset= BertDataset(tokenizer, max_length=100)\n",
    "\n",
    "dataloader=DataLoader(dataset=dataset,batch_size=32)"
   ]
  },
  {
   "cell_type": "code",
   "execution_count": 13,
   "id": "473b3a01",
   "metadata": {},
   "outputs": [
    {
     "name": "stderr",
     "output_type": "stream",
     "text": [
      "Some weights of the model checkpoint at bert-base-uncased were not used when initializing BertModel: ['cls.predictions.transform.LayerNorm.bias', 'cls.predictions.transform.dense.bias', 'cls.predictions.bias', 'cls.seq_relationship.bias', 'cls.seq_relationship.weight', 'cls.predictions.transform.dense.weight', 'cls.predictions.decoder.weight', 'cls.predictions.transform.LayerNorm.weight']\n",
      "- This IS expected if you are initializing BertModel from the checkpoint of a model trained on another task or with another architecture (e.g. initializing a BertForSequenceClassification model from a BertForPreTraining model).\n",
      "- This IS NOT expected if you are initializing BertModel from the checkpoint of a model that you expect to be exactly identical (initializing a BertForSequenceClassification model from a BertForSequenceClassification model).\n"
     ]
    },
    {
     "name": "stdout",
     "output_type": "stream",
     "text": [
      "BERT(\n",
      "  (bert_model): BertModel(\n",
      "    (embeddings): BertEmbeddings(\n",
      "      (word_embeddings): Embedding(30522, 768, padding_idx=0)\n",
      "      (position_embeddings): Embedding(512, 768)\n",
      "      (token_type_embeddings): Embedding(2, 768)\n",
      "      (LayerNorm): LayerNorm((768,), eps=1e-12, elementwise_affine=True)\n",
      "      (dropout): Dropout(p=0.1, inplace=False)\n",
      "    )\n",
      "    (encoder): BertEncoder(\n",
      "      (layer): ModuleList(\n",
      "        (0): BertLayer(\n",
      "          (attention): BertAttention(\n",
      "            (self): BertSelfAttention(\n",
      "              (query): Linear(in_features=768, out_features=768, bias=True)\n",
      "              (key): Linear(in_features=768, out_features=768, bias=True)\n",
      "              (value): Linear(in_features=768, out_features=768, bias=True)\n",
      "              (dropout): Dropout(p=0.1, inplace=False)\n",
      "            )\n",
      "            (output): BertSelfOutput(\n",
      "              (dense): Linear(in_features=768, out_features=768, bias=True)\n",
      "              (LayerNorm): LayerNorm((768,), eps=1e-12, elementwise_affine=True)\n",
      "              (dropout): Dropout(p=0.1, inplace=False)\n",
      "            )\n",
      "          )\n",
      "          (intermediate): BertIntermediate(\n",
      "            (dense): Linear(in_features=768, out_features=3072, bias=True)\n",
      "            (intermediate_act_fn): GELUActivation()\n",
      "          )\n",
      "          (output): BertOutput(\n",
      "            (dense): Linear(in_features=3072, out_features=768, bias=True)\n",
      "            (LayerNorm): LayerNorm((768,), eps=1e-12, elementwise_affine=True)\n",
      "            (dropout): Dropout(p=0.1, inplace=False)\n",
      "          )\n",
      "        )\n",
      "        (1): BertLayer(\n",
      "          (attention): BertAttention(\n",
      "            (self): BertSelfAttention(\n",
      "              (query): Linear(in_features=768, out_features=768, bias=True)\n",
      "              (key): Linear(in_features=768, out_features=768, bias=True)\n",
      "              (value): Linear(in_features=768, out_features=768, bias=True)\n",
      "              (dropout): Dropout(p=0.1, inplace=False)\n",
      "            )\n",
      "            (output): BertSelfOutput(\n",
      "              (dense): Linear(in_features=768, out_features=768, bias=True)\n",
      "              (LayerNorm): LayerNorm((768,), eps=1e-12, elementwise_affine=True)\n",
      "              (dropout): Dropout(p=0.1, inplace=False)\n",
      "            )\n",
      "          )\n",
      "          (intermediate): BertIntermediate(\n",
      "            (dense): Linear(in_features=768, out_features=3072, bias=True)\n",
      "            (intermediate_act_fn): GELUActivation()\n",
      "          )\n",
      "          (output): BertOutput(\n",
      "            (dense): Linear(in_features=3072, out_features=768, bias=True)\n",
      "            (LayerNorm): LayerNorm((768,), eps=1e-12, elementwise_affine=True)\n",
      "            (dropout): Dropout(p=0.1, inplace=False)\n",
      "          )\n",
      "        )\n",
      "        (2): BertLayer(\n",
      "          (attention): BertAttention(\n",
      "            (self): BertSelfAttention(\n",
      "              (query): Linear(in_features=768, out_features=768, bias=True)\n",
      "              (key): Linear(in_features=768, out_features=768, bias=True)\n",
      "              (value): Linear(in_features=768, out_features=768, bias=True)\n",
      "              (dropout): Dropout(p=0.1, inplace=False)\n",
      "            )\n",
      "            (output): BertSelfOutput(\n",
      "              (dense): Linear(in_features=768, out_features=768, bias=True)\n",
      "              (LayerNorm): LayerNorm((768,), eps=1e-12, elementwise_affine=True)\n",
      "              (dropout): Dropout(p=0.1, inplace=False)\n",
      "            )\n",
      "          )\n",
      "          (intermediate): BertIntermediate(\n",
      "            (dense): Linear(in_features=768, out_features=3072, bias=True)\n",
      "            (intermediate_act_fn): GELUActivation()\n",
      "          )\n",
      "          (output): BertOutput(\n",
      "            (dense): Linear(in_features=3072, out_features=768, bias=True)\n",
      "            (LayerNorm): LayerNorm((768,), eps=1e-12, elementwise_affine=True)\n",
      "            (dropout): Dropout(p=0.1, inplace=False)\n",
      "          )\n",
      "        )\n",
      "        (3): BertLayer(\n",
      "          (attention): BertAttention(\n",
      "            (self): BertSelfAttention(\n",
      "              (query): Linear(in_features=768, out_features=768, bias=True)\n",
      "              (key): Linear(in_features=768, out_features=768, bias=True)\n",
      "              (value): Linear(in_features=768, out_features=768, bias=True)\n",
      "              (dropout): Dropout(p=0.1, inplace=False)\n",
      "            )\n",
      "            (output): BertSelfOutput(\n",
      "              (dense): Linear(in_features=768, out_features=768, bias=True)\n",
      "              (LayerNorm): LayerNorm((768,), eps=1e-12, elementwise_affine=True)\n",
      "              (dropout): Dropout(p=0.1, inplace=False)\n",
      "            )\n",
      "          )\n",
      "          (intermediate): BertIntermediate(\n",
      "            (dense): Linear(in_features=768, out_features=3072, bias=True)\n",
      "            (intermediate_act_fn): GELUActivation()\n",
      "          )\n",
      "          (output): BertOutput(\n",
      "            (dense): Linear(in_features=3072, out_features=768, bias=True)\n",
      "            (LayerNorm): LayerNorm((768,), eps=1e-12, elementwise_affine=True)\n",
      "            (dropout): Dropout(p=0.1, inplace=False)\n",
      "          )\n",
      "        )\n",
      "        (4): BertLayer(\n",
      "          (attention): BertAttention(\n",
      "            (self): BertSelfAttention(\n",
      "              (query): Linear(in_features=768, out_features=768, bias=True)\n",
      "              (key): Linear(in_features=768, out_features=768, bias=True)\n",
      "              (value): Linear(in_features=768, out_features=768, bias=True)\n",
      "              (dropout): Dropout(p=0.1, inplace=False)\n",
      "            )\n",
      "            (output): BertSelfOutput(\n",
      "              (dense): Linear(in_features=768, out_features=768, bias=True)\n",
      "              (LayerNorm): LayerNorm((768,), eps=1e-12, elementwise_affine=True)\n",
      "              (dropout): Dropout(p=0.1, inplace=False)\n",
      "            )\n",
      "          )\n",
      "          (intermediate): BertIntermediate(\n",
      "            (dense): Linear(in_features=768, out_features=3072, bias=True)\n",
      "            (intermediate_act_fn): GELUActivation()\n",
      "          )\n",
      "          (output): BertOutput(\n",
      "            (dense): Linear(in_features=3072, out_features=768, bias=True)\n",
      "            (LayerNorm): LayerNorm((768,), eps=1e-12, elementwise_affine=True)\n",
      "            (dropout): Dropout(p=0.1, inplace=False)\n",
      "          )\n",
      "        )\n",
      "        (5): BertLayer(\n",
      "          (attention): BertAttention(\n",
      "            (self): BertSelfAttention(\n",
      "              (query): Linear(in_features=768, out_features=768, bias=True)\n",
      "              (key): Linear(in_features=768, out_features=768, bias=True)\n",
      "              (value): Linear(in_features=768, out_features=768, bias=True)\n",
      "              (dropout): Dropout(p=0.1, inplace=False)\n",
      "            )\n",
      "            (output): BertSelfOutput(\n",
      "              (dense): Linear(in_features=768, out_features=768, bias=True)\n",
      "              (LayerNorm): LayerNorm((768,), eps=1e-12, elementwise_affine=True)\n",
      "              (dropout): Dropout(p=0.1, inplace=False)\n",
      "            )\n",
      "          )\n",
      "          (intermediate): BertIntermediate(\n",
      "            (dense): Linear(in_features=768, out_features=3072, bias=True)\n",
      "            (intermediate_act_fn): GELUActivation()\n",
      "          )\n",
      "          (output): BertOutput(\n",
      "            (dense): Linear(in_features=3072, out_features=768, bias=True)\n",
      "            (LayerNorm): LayerNorm((768,), eps=1e-12, elementwise_affine=True)\n",
      "            (dropout): Dropout(p=0.1, inplace=False)\n",
      "          )\n",
      "        )\n",
      "        (6): BertLayer(\n",
      "          (attention): BertAttention(\n",
      "            (self): BertSelfAttention(\n",
      "              (query): Linear(in_features=768, out_features=768, bias=True)\n",
      "              (key): Linear(in_features=768, out_features=768, bias=True)\n",
      "              (value): Linear(in_features=768, out_features=768, bias=True)\n",
      "              (dropout): Dropout(p=0.1, inplace=False)\n",
      "            )\n",
      "            (output): BertSelfOutput(\n",
      "              (dense): Linear(in_features=768, out_features=768, bias=True)\n",
      "              (LayerNorm): LayerNorm((768,), eps=1e-12, elementwise_affine=True)\n",
      "              (dropout): Dropout(p=0.1, inplace=False)\n",
      "            )\n",
      "          )\n",
      "          (intermediate): BertIntermediate(\n",
      "            (dense): Linear(in_features=768, out_features=3072, bias=True)\n",
      "            (intermediate_act_fn): GELUActivation()\n",
      "          )\n",
      "          (output): BertOutput(\n",
      "            (dense): Linear(in_features=3072, out_features=768, bias=True)\n",
      "            (LayerNorm): LayerNorm((768,), eps=1e-12, elementwise_affine=True)\n",
      "            (dropout): Dropout(p=0.1, inplace=False)\n",
      "          )\n",
      "        )\n",
      "        (7): BertLayer(\n",
      "          (attention): BertAttention(\n",
      "            (self): BertSelfAttention(\n",
      "              (query): Linear(in_features=768, out_features=768, bias=True)\n",
      "              (key): Linear(in_features=768, out_features=768, bias=True)\n",
      "              (value): Linear(in_features=768, out_features=768, bias=True)\n",
      "              (dropout): Dropout(p=0.1, inplace=False)\n",
      "            )\n",
      "            (output): BertSelfOutput(\n",
      "              (dense): Linear(in_features=768, out_features=768, bias=True)\n",
      "              (LayerNorm): LayerNorm((768,), eps=1e-12, elementwise_affine=True)\n",
      "              (dropout): Dropout(p=0.1, inplace=False)\n",
      "            )\n",
      "          )\n",
      "          (intermediate): BertIntermediate(\n",
      "            (dense): Linear(in_features=768, out_features=3072, bias=True)\n",
      "            (intermediate_act_fn): GELUActivation()\n",
      "          )\n",
      "          (output): BertOutput(\n",
      "            (dense): Linear(in_features=3072, out_features=768, bias=True)\n",
      "            (LayerNorm): LayerNorm((768,), eps=1e-12, elementwise_affine=True)\n",
      "            (dropout): Dropout(p=0.1, inplace=False)\n",
      "          )\n",
      "        )\n",
      "        (8): BertLayer(\n",
      "          (attention): BertAttention(\n",
      "            (self): BertSelfAttention(\n",
      "              (query): Linear(in_features=768, out_features=768, bias=True)\n",
      "              (key): Linear(in_features=768, out_features=768, bias=True)\n",
      "              (value): Linear(in_features=768, out_features=768, bias=True)\n",
      "              (dropout): Dropout(p=0.1, inplace=False)\n",
      "            )\n",
      "            (output): BertSelfOutput(\n",
      "              (dense): Linear(in_features=768, out_features=768, bias=True)\n",
      "              (LayerNorm): LayerNorm((768,), eps=1e-12, elementwise_affine=True)\n",
      "              (dropout): Dropout(p=0.1, inplace=False)\n",
      "            )\n",
      "          )\n",
      "          (intermediate): BertIntermediate(\n",
      "            (dense): Linear(in_features=768, out_features=3072, bias=True)\n",
      "            (intermediate_act_fn): GELUActivation()\n",
      "          )\n",
      "          (output): BertOutput(\n",
      "            (dense): Linear(in_features=3072, out_features=768, bias=True)\n",
      "            (LayerNorm): LayerNorm((768,), eps=1e-12, elementwise_affine=True)\n",
      "            (dropout): Dropout(p=0.1, inplace=False)\n",
      "          )\n",
      "        )\n",
      "        (9): BertLayer(\n",
      "          (attention): BertAttention(\n",
      "            (self): BertSelfAttention(\n",
      "              (query): Linear(in_features=768, out_features=768, bias=True)\n",
      "              (key): Linear(in_features=768, out_features=768, bias=True)\n",
      "              (value): Linear(in_features=768, out_features=768, bias=True)\n",
      "              (dropout): Dropout(p=0.1, inplace=False)\n",
      "            )\n",
      "            (output): BertSelfOutput(\n",
      "              (dense): Linear(in_features=768, out_features=768, bias=True)\n",
      "              (LayerNorm): LayerNorm((768,), eps=1e-12, elementwise_affine=True)\n",
      "              (dropout): Dropout(p=0.1, inplace=False)\n",
      "            )\n",
      "          )\n",
      "          (intermediate): BertIntermediate(\n",
      "            (dense): Linear(in_features=768, out_features=3072, bias=True)\n",
      "            (intermediate_act_fn): GELUActivation()\n",
      "          )\n",
      "          (output): BertOutput(\n",
      "            (dense): Linear(in_features=3072, out_features=768, bias=True)\n",
      "            (LayerNorm): LayerNorm((768,), eps=1e-12, elementwise_affine=True)\n",
      "            (dropout): Dropout(p=0.1, inplace=False)\n",
      "          )\n",
      "        )\n",
      "        (10): BertLayer(\n",
      "          (attention): BertAttention(\n",
      "            (self): BertSelfAttention(\n",
      "              (query): Linear(in_features=768, out_features=768, bias=True)\n",
      "              (key): Linear(in_features=768, out_features=768, bias=True)\n",
      "              (value): Linear(in_features=768, out_features=768, bias=True)\n",
      "              (dropout): Dropout(p=0.1, inplace=False)\n",
      "            )\n",
      "            (output): BertSelfOutput(\n",
      "              (dense): Linear(in_features=768, out_features=768, bias=True)\n",
      "              (LayerNorm): LayerNorm((768,), eps=1e-12, elementwise_affine=True)\n",
      "              (dropout): Dropout(p=0.1, inplace=False)\n",
      "            )\n",
      "          )\n",
      "          (intermediate): BertIntermediate(\n",
      "            (dense): Linear(in_features=768, out_features=3072, bias=True)\n",
      "            (intermediate_act_fn): GELUActivation()\n",
      "          )\n",
      "          (output): BertOutput(\n",
      "            (dense): Linear(in_features=3072, out_features=768, bias=True)\n",
      "            (LayerNorm): LayerNorm((768,), eps=1e-12, elementwise_affine=True)\n",
      "            (dropout): Dropout(p=0.1, inplace=False)\n",
      "          )\n",
      "        )\n",
      "        (11): BertLayer(\n",
      "          (attention): BertAttention(\n",
      "            (self): BertSelfAttention(\n",
      "              (query): Linear(in_features=768, out_features=768, bias=True)\n",
      "              (key): Linear(in_features=768, out_features=768, bias=True)\n",
      "              (value): Linear(in_features=768, out_features=768, bias=True)\n",
      "              (dropout): Dropout(p=0.1, inplace=False)\n",
      "            )\n",
      "            (output): BertSelfOutput(\n",
      "              (dense): Linear(in_features=768, out_features=768, bias=True)\n",
      "              (LayerNorm): LayerNorm((768,), eps=1e-12, elementwise_affine=True)\n",
      "              (dropout): Dropout(p=0.1, inplace=False)\n",
      "            )\n",
      "          )\n",
      "          (intermediate): BertIntermediate(\n",
      "            (dense): Linear(in_features=768, out_features=3072, bias=True)\n",
      "            (intermediate_act_fn): GELUActivation()\n",
      "          )\n",
      "          (output): BertOutput(\n",
      "            (dense): Linear(in_features=3072, out_features=768, bias=True)\n",
      "            (LayerNorm): LayerNorm((768,), eps=1e-12, elementwise_affine=True)\n",
      "            (dropout): Dropout(p=0.1, inplace=False)\n",
      "          )\n",
      "        )\n",
      "      )\n",
      "    )\n",
      "    (pooler): BertPooler(\n",
      "      (dense): Linear(in_features=768, out_features=768, bias=True)\n",
      "      (activation): Tanh()\n",
      "    )\n",
      "  )\n",
      "  (dropout): Dropout(p=0.1, inplace=False)\n",
      "  (out): Linear(in_features=768, out_features=1, bias=True)\n",
      "  (relu): ReLU()\n",
      ")\n"
     ]
    }
   ],
   "source": [
    "class BERT(nn.Module):\n",
    "    def __init__(self):\n",
    "        super(BERT, self).__init__()\n",
    "        self.bert_model = transformers.BertModel.from_pretrained(\"bert-base-uncased\")\n",
    "        self.dropout = nn.Dropout(0.1)\n",
    "        self.out = nn.Linear(768,1)\n",
    "        self.relu =nn.ReLU()\n",
    "    def forward(self,ids,mask,token_type_ids):\n",
    "        _,o2 = self.bert_model(ids,attention_mask = mask, token_type_ids= token_type_ids, return_dict=False)\n",
    "        \n",
    "        o2= self.dropout(o2)\n",
    "        lin_out= self.out(o2)\n",
    "\n",
    "        out = self.relu(lin_out)\n",
    "        return out\n",
    "\n",
    "model = BERT()\n",
    "model = model.cuda()\n",
    "\n",
    "loss_fn = nn.BCEWithLogitsLoss()\n",
    "loss_fn = loss_fn.cuda()\n",
    "\n",
    "optimizer = optim.Adam(model.parameters(),lr=1e-5)\n",
    "\n",
    "print(model)\n"
   ]
  },
  {
   "cell_type": "code",
   "execution_count": 14,
   "id": "56c6e524",
   "metadata": {},
   "outputs": [],
   "source": [
    "for param in model.bert_model.parameters():\n",
    "    param.requires_grad = False"
   ]
  },
  {
   "cell_type": "code",
   "execution_count": 11,
   "id": "61d93c01",
   "metadata": {},
   "outputs": [],
   "source": [
    "def finetune(epochs,dataloader,model,loss_fn,optimizer):\n",
    "    model.train()\n",
    "    for  epoch in range(epochs):\n",
    "        running_loss = 0.0\n",
    "        loop = tqdm(enumerate(dataloader),leave=False,total=len(dataloader),mininterval=10)\n",
    "        for batch, dl in loop:\n",
    "            \n",
    "            #data things\n",
    "            ids=dl['ids']\n",
    "            token_type_ids=dl['token_type_ids']\n",
    "            mask= dl['mask']\n",
    "            label=dl['target']\n",
    "            label = label.unsqueeze(1)\n",
    "            \n",
    "            #from cpu to GPU\n",
    "            ids= ids.cuda()\n",
    "            token_type_ids= token_type_ids.cuda()\n",
    "            mask= mask.cuda()\n",
    "            label= label.cuda()\n",
    "            \n",
    "            #model update (梯度歸0)\n",
    "            optimizer.zero_grad()\n",
    "            \n",
    "            #\n",
    "            output=model(\n",
    "                ids=ids,\n",
    "                mask=mask,\n",
    "                token_type_ids=token_type_ids)\n",
    "            label = label.type_as(output)\n",
    "\n",
    "            loss=loss_fn(output,label)\n",
    "            #backward\n",
    "            loss.backward()\n",
    "            \n",
    "            \n",
    "            optimizer.step()\n",
    "            \n",
    "            running_loss += loss.item()\n",
    "            \n",
    "            output = output.cpu()\n",
    "            pred = np.where(output >= 0, 1, 0)\n",
    "\n",
    "        \n",
    "            num_correct = sum(1 for a, b in zip(pred, label) if a[0] == b[0])\n",
    "            num_samples = pred.shape[0]\n",
    "            \n",
    "            \n",
    "            accuracy = num_correct/num_samples\n",
    "            \n",
    "            print(f'Got {num_correct} / {num_samples} with accuracy {float(num_correct)/float(num_samples)*100:.2f}')\n",
    "            \n",
    "            # Show progress while training\n",
    "            loop.set_description(f'Epoch={epoch}/{epochs}')\n",
    "            loop.set_postfix(loss=loss.item(),acc=accuracy)\n",
    "    \n",
    "    return model"
   ]
  },
  {
   "cell_type": "code",
   "execution_count": 15,
   "id": "1a3957f3",
   "metadata": {},
   "outputs": [
    {
     "name": "stderr",
     "output_type": "stream",
     "text": [
      "Epoch=0/6:   0%|          | 0/217 [00:00<?, ?it/s, acc=0.75, loss=0.67]  "
     ]
    },
    {
     "name": "stdout",
     "output_type": "stream",
     "text": [
      "Got 15 / 32 with accuracy 46.88\n",
      "Got 24 / 32 with accuracy 75.00\n"
     ]
    },
    {
     "name": "stderr",
     "output_type": "stream",
     "text": [
      "Epoch=0/6:   0%|          | 0/217 [00:00<?, ?it/s, acc=0.562, loss=0.676]"
     ]
    },
    {
     "name": "stdout",
     "output_type": "stream",
     "text": [
      "Got 18 / 32 with accuracy 56.25\n",
      "Got 18 / 32 with accuracy 56.25\n"
     ]
    },
    {
     "name": "stderr",
     "output_type": "stream",
     "text": [
      "Epoch=0/6:   0%|          | 0/217 [00:00<?, ?it/s, acc=0.531, loss=0.688]"
     ]
    },
    {
     "name": "stdout",
     "output_type": "stream",
     "text": [
      "Got 16 / 32 with accuracy 50.00\n",
      "Got 17 / 32 with accuracy 53.12\n"
     ]
    },
    {
     "name": "stderr",
     "output_type": "stream",
     "text": [
      "Epoch=0/6:   0%|          | 0/217 [00:01<?, ?it/s, acc=0.594, loss=0.687]"
     ]
    },
    {
     "name": "stdout",
     "output_type": "stream",
     "text": [
      "Got 18 / 32 with accuracy 56.25\n",
      "Got 19 / 32 with accuracy 59.38\n"
     ]
    },
    {
     "name": "stderr",
     "output_type": "stream",
     "text": [
      "Epoch=0/6:   0%|          | 0/217 [00:01<?, ?it/s, acc=0.438, loss=0.696]"
     ]
    },
    {
     "name": "stdout",
     "output_type": "stream",
     "text": [
      "Got 20 / 32 with accuracy 62.50\n",
      "Got 14 / 32 with accuracy 43.75\n"
     ]
    },
    {
     "name": "stderr",
     "output_type": "stream",
     "text": [
      "Epoch=0/6:   0%|          | 0/217 [00:01<?, ?it/s, acc=0.375, loss=0.701]"
     ]
    },
    {
     "name": "stdout",
     "output_type": "stream",
     "text": [
      "Got 16 / 32 with accuracy 50.00\n",
      "Got 12 / 32 with accuracy 37.50\n"
     ]
    },
    {
     "name": "stderr",
     "output_type": "stream",
     "text": [
      "Epoch=0/6:   0%|          | 0/217 [00:01<?, ?it/s, acc=0.469, loss=0.695]"
     ]
    },
    {
     "name": "stdout",
     "output_type": "stream",
     "text": [
      "Got 19 / 32 with accuracy 59.38\n",
      "Got 15 / 32 with accuracy 46.88\n"
     ]
    },
    {
     "name": "stderr",
     "output_type": "stream",
     "text": [
      "Epoch=0/6:   0%|          | 0/217 [00:01<?, ?it/s, acc=0.562, loss=0.676]"
     ]
    },
    {
     "name": "stdout",
     "output_type": "stream",
     "text": [
      "Got 13 / 32 with accuracy 40.62\n",
      "Got 18 / 32 with accuracy 56.25\n"
     ]
    },
    {
     "name": "stderr",
     "output_type": "stream",
     "text": [
      "Epoch=0/6:   0%|          | 0/217 [00:02<?, ?it/s, acc=0.438, loss=0.695]"
     ]
    },
    {
     "name": "stdout",
     "output_type": "stream",
     "text": [
      "Got 15 / 32 with accuracy 46.88\n",
      "Got 14 / 32 with accuracy 43.75\n"
     ]
    },
    {
     "name": "stderr",
     "output_type": "stream",
     "text": [
      "Epoch=0/6:   0%|          | 0/217 [00:02<?, ?it/s, acc=0.625, loss=0.685]"
     ]
    },
    {
     "name": "stdout",
     "output_type": "stream",
     "text": [
      "Got 16 / 32 with accuracy 50.00\n",
      "Got 20 / 32 with accuracy 62.50\n"
     ]
    },
    {
     "name": "stderr",
     "output_type": "stream",
     "text": [
      "Epoch=0/6:   0%|          | 0/217 [00:02<?, ?it/s, acc=0.594, loss=0.672]"
     ]
    },
    {
     "name": "stdout",
     "output_type": "stream",
     "text": [
      "Got 15 / 32 with accuracy 46.88\n",
      "Got 19 / 32 with accuracy 59.38\n"
     ]
    },
    {
     "name": "stderr",
     "output_type": "stream",
     "text": [
      "Epoch=0/6:   0%|          | 0/217 [00:02<?, ?it/s, acc=0.531, loss=0.706]"
     ]
    },
    {
     "name": "stdout",
     "output_type": "stream",
     "text": [
      "Got 20 / 32 with accuracy 62.50\n",
      "Got 17 / 32 with accuracy 53.12\n"
     ]
    },
    {
     "name": "stderr",
     "output_type": "stream",
     "text": [
      "Epoch=0/6:   0%|          | 0/217 [00:03<?, ?it/s, acc=0.375, loss=0.73] "
     ]
    },
    {
     "name": "stdout",
     "output_type": "stream",
     "text": [
      "Got 18 / 32 with accuracy 56.25\n",
      "Got 12 / 32 with accuracy 37.50\n"
     ]
    },
    {
     "name": "stderr",
     "output_type": "stream",
     "text": [
      "Epoch=0/6:   0%|          | 0/217 [00:03<?, ?it/s, acc=0.375, loss=0.703]"
     ]
    },
    {
     "name": "stdout",
     "output_type": "stream",
     "text": [
      "Got 18 / 32 with accuracy 56.25\n",
      "Got 12 / 32 with accuracy 37.50\n"
     ]
    },
    {
     "name": "stderr",
     "output_type": "stream",
     "text": [
      "Epoch=0/6:   0%|          | 0/217 [00:03<?, ?it/s, acc=0.406, loss=0.706]"
     ]
    },
    {
     "name": "stdout",
     "output_type": "stream",
     "text": [
      "Got 18 / 32 with accuracy 56.25\n",
      "Got 13 / 32 with accuracy 40.62\n"
     ]
    },
    {
     "name": "stderr",
     "output_type": "stream",
     "text": [
      "Epoch=0/6:   0%|          | 0/217 [00:03<?, ?it/s, acc=0.469, loss=0.7]  "
     ]
    },
    {
     "name": "stdout",
     "output_type": "stream",
     "text": [
      "Got 18 / 32 with accuracy 56.25\n",
      "Got 15 / 32 with accuracy 46.88\n"
     ]
    },
    {
     "name": "stderr",
     "output_type": "stream",
     "text": [
      "Epoch=0/6:   0%|          | 0/217 [00:04<?, ?it/s, acc=0.531, loss=0.684]"
     ]
    },
    {
     "name": "stdout",
     "output_type": "stream",
     "text": [
      "Got 17 / 32 with accuracy 53.12\n",
      "Got 17 / 32 with accuracy 53.12\n"
     ]
    },
    {
     "name": "stderr",
     "output_type": "stream",
     "text": [
      "Epoch=0/6:   0%|          | 0/217 [00:04<?, ?it/s, acc=0.5, loss=0.686]  "
     ]
    },
    {
     "name": "stdout",
     "output_type": "stream",
     "text": [
      "Got 18 / 32 with accuracy 56.25\n",
      "Got 16 / 32 with accuracy 50.00\n"
     ]
    },
    {
     "name": "stderr",
     "output_type": "stream",
     "text": [
      "Epoch=0/6:   0%|          | 0/217 [00:04<?, ?it/s, acc=0.438, loss=0.698]"
     ]
    },
    {
     "name": "stdout",
     "output_type": "stream",
     "text": [
      "Got 14 / 32 with accuracy 43.75\n",
      "Got 14 / 32 with accuracy 43.75\n"
     ]
    },
    {
     "name": "stderr",
     "output_type": "stream",
     "text": [
      "Epoch=0/6:   0%|          | 0/217 [00:04<?, ?it/s, acc=0.625, loss=0.681]"
     ]
    },
    {
     "name": "stdout",
     "output_type": "stream",
     "text": [
      "Got 18 / 32 with accuracy 56.25\n",
      "Got 20 / 32 with accuracy 62.50\n"
     ]
    },
    {
     "name": "stderr",
     "output_type": "stream",
     "text": [
      "Epoch=0/6:   0%|          | 0/217 [00:05<?, ?it/s, acc=0.5, loss=0.712]  "
     ]
    },
    {
     "name": "stdout",
     "output_type": "stream",
     "text": [
      "Got 15 / 32 with accuracy 46.88\n",
      "Got 16 / 32 with accuracy 50.00\n"
     ]
    },
    {
     "name": "stderr",
     "output_type": "stream",
     "text": [
      "Epoch=0/6:   0%|          | 0/217 [00:05<?, ?it/s, acc=0.531, loss=0.693]"
     ]
    },
    {
     "name": "stdout",
     "output_type": "stream",
     "text": [
      "Got 18 / 32 with accuracy 56.25\n",
      "Got 17 / 32 with accuracy 53.12\n"
     ]
    },
    {
     "name": "stderr",
     "output_type": "stream",
     "text": [
      "Epoch=0/6:   0%|          | 0/217 [00:05<?, ?it/s, acc=0.531, loss=0.694]"
     ]
    },
    {
     "name": "stdout",
     "output_type": "stream",
     "text": [
      "Got 18 / 32 with accuracy 56.25\n",
      "Got 17 / 32 with accuracy 53.12\n"
     ]
    },
    {
     "name": "stderr",
     "output_type": "stream",
     "text": [
      "Epoch=0/6:   0%|          | 0/217 [00:05<?, ?it/s, acc=0.469, loss=0.71] "
     ]
    },
    {
     "name": "stdout",
     "output_type": "stream",
     "text": [
      "Got 18 / 32 with accuracy 56.25\n",
      "Got 15 / 32 with accuracy 46.88\n"
     ]
    },
    {
     "name": "stderr",
     "output_type": "stream",
     "text": [
      "Epoch=0/6:   0%|          | 0/217 [00:06<?, ?it/s, acc=0.531, loss=0.677]"
     ]
    },
    {
     "name": "stdout",
     "output_type": "stream",
     "text": [
      "Got 16 / 32 with accuracy 50.00\n",
      "Got 17 / 32 with accuracy 53.12\n"
     ]
    },
    {
     "name": "stderr",
     "output_type": "stream",
     "text": [
      "Epoch=0/6:   0%|          | 0/217 [00:06<?, ?it/s, acc=0.469, loss=0.709]"
     ]
    },
    {
     "name": "stdout",
     "output_type": "stream",
     "text": [
      "Got 18 / 32 with accuracy 56.25\n",
      "Got 15 / 32 with accuracy 46.88\n"
     ]
    },
    {
     "name": "stderr",
     "output_type": "stream",
     "text": [
      "Epoch=0/6:   0%|          | 0/217 [00:06<?, ?it/s, acc=0.5, loss=0.696]  "
     ]
    },
    {
     "name": "stdout",
     "output_type": "stream",
     "text": [
      "Got 19 / 32 with accuracy 59.38\n",
      "Got 16 / 32 with accuracy 50.00\n"
     ]
    },
    {
     "name": "stderr",
     "output_type": "stream",
     "text": [
      "Epoch=0/6:   0%|          | 0/217 [00:06<?, ?it/s, acc=0.531, loss=0.71]"
     ]
    },
    {
     "name": "stdout",
     "output_type": "stream",
     "text": [
      "Got 17 / 32 with accuracy 53.12\n",
      "Got 17 / 32 with accuracy 53.12\n"
     ]
    },
    {
     "name": "stderr",
     "output_type": "stream",
     "text": [
      "Epoch=0/6:   0%|          | 0/217 [00:07<?, ?it/s, acc=0.469, loss=0.705]"
     ]
    },
    {
     "name": "stdout",
     "output_type": "stream",
     "text": [
      "Got 18 / 32 with accuracy 56.25\n",
      "Got 15 / 32 with accuracy 46.88\n"
     ]
    },
    {
     "name": "stderr",
     "output_type": "stream",
     "text": [
      "Epoch=0/6:   0%|          | 0/217 [00:07<?, ?it/s, acc=0.531, loss=0.673]"
     ]
    },
    {
     "name": "stdout",
     "output_type": "stream",
     "text": [
      "Got 21 / 32 with accuracy 65.62\n",
      "Got 17 / 32 with accuracy 53.12\n"
     ]
    },
    {
     "name": "stderr",
     "output_type": "stream",
     "text": [
      "Epoch=0/6:   0%|          | 0/217 [00:07<?, ?it/s, acc=0.562, loss=0.681]"
     ]
    },
    {
     "name": "stdout",
     "output_type": "stream",
     "text": [
      "Got 12 / 32 with accuracy 37.50\n",
      "Got 18 / 32 with accuracy 56.25\n"
     ]
    },
    {
     "name": "stderr",
     "output_type": "stream",
     "text": [
      "Epoch=0/6:   0%|          | 0/217 [00:07<?, ?it/s, acc=0.562, loss=0.696]"
     ]
    },
    {
     "name": "stdout",
     "output_type": "stream",
     "text": [
      "Got 18 / 32 with accuracy 56.25\n",
      "Got 18 / 32 with accuracy 56.25\n"
     ]
    },
    {
     "name": "stderr",
     "output_type": "stream",
     "text": [
      "Epoch=0/6:   0%|          | 0/217 [00:08<?, ?it/s, acc=0.719, loss=0.653]"
     ]
    },
    {
     "name": "stdout",
     "output_type": "stream",
     "text": [
      "Got 17 / 32 with accuracy 53.12\n",
      "Got 23 / 32 with accuracy 71.88\n"
     ]
    },
    {
     "name": "stderr",
     "output_type": "stream",
     "text": [
      "Epoch=0/6:   0%|          | 0/217 [00:08<?, ?it/s, acc=0.5, loss=0.691]  "
     ]
    },
    {
     "name": "stdout",
     "output_type": "stream",
     "text": [
      "Got 14 / 32 with accuracy 43.75\n",
      "Got 16 / 32 with accuracy 50.00\n"
     ]
    },
    {
     "name": "stderr",
     "output_type": "stream",
     "text": [
      "Epoch=0/6:   0%|          | 0/217 [00:08<?, ?it/s, acc=0.594, loss=0.684]"
     ]
    },
    {
     "name": "stdout",
     "output_type": "stream",
     "text": [
      "Got 16 / 32 with accuracy 50.00\n",
      "Got 19 / 32 with accuracy 59.38\n"
     ]
    },
    {
     "name": "stderr",
     "output_type": "stream",
     "text": [
      "Epoch=0/6:   0%|          | 0/217 [00:08<?, ?it/s, acc=0.344, loss=0.712]"
     ]
    },
    {
     "name": "stdout",
     "output_type": "stream",
     "text": [
      "Got 13 / 32 with accuracy 40.62\n",
      "Got 11 / 32 with accuracy 34.38\n"
     ]
    },
    {
     "name": "stderr",
     "output_type": "stream",
     "text": [
      "Epoch=0/6:   0%|          | 0/217 [00:08<?, ?it/s, acc=0.438, loss=0.7]  "
     ]
    },
    {
     "name": "stdout",
     "output_type": "stream",
     "text": [
      "Got 18 / 32 with accuracy 56.25\n",
      "Got 14 / 32 with accuracy 43.75\n"
     ]
    },
    {
     "name": "stderr",
     "output_type": "stream",
     "text": [
      "Epoch=0/6:   0%|          | 0/217 [00:09<?, ?it/s, acc=0.594, loss=0.677]"
     ]
    },
    {
     "name": "stdout",
     "output_type": "stream",
     "text": [
      "Got 11 / 32 with accuracy 34.38\n",
      "Got 19 / 32 with accuracy 59.38\n"
     ]
    },
    {
     "name": "stderr",
     "output_type": "stream",
     "text": [
      "Epoch=0/6:   0%|          | 0/217 [00:09<?, ?it/s, acc=0.469, loss=0.702]"
     ]
    },
    {
     "name": "stdout",
     "output_type": "stream",
     "text": [
      "Got 11 / 32 with accuracy 34.38\n",
      "Got 15 / 32 with accuracy 46.88\n"
     ]
    },
    {
     "name": "stderr",
     "output_type": "stream",
     "text": [
      "Epoch=0/6:   0%|          | 0/217 [00:09<?, ?it/s, acc=0.625, loss=0.677]"
     ]
    },
    {
     "name": "stdout",
     "output_type": "stream",
     "text": [
      "Got 20 / 32 with accuracy 62.50\n",
      "Got 20 / 32 with accuracy 62.50\n"
     ]
    },
    {
     "name": "stderr",
     "output_type": "stream",
     "text": [
      "Epoch=0/6:   0%|          | 0/217 [00:09<?, ?it/s, acc=0.656, loss=0.68] "
     ]
    },
    {
     "name": "stdout",
     "output_type": "stream",
     "text": [
      "Got 18 / 32 with accuracy 56.25\n",
      "Got 21 / 32 with accuracy 65.62\n"
     ]
    },
    {
     "name": "stderr",
     "output_type": "stream",
     "text": [
      "Epoch=0/6:  38%|███▊      | 83/217 [00:10<00:16,  8.24it/s, acc=0.625, loss=0.68]"
     ]
    },
    {
     "name": "stdout",
     "output_type": "stream",
     "text": [
      "Got 16 / 32 with accuracy 50.00\n",
      "Got 20 / 32 with accuracy 62.50\n"
     ]
    },
    {
     "name": "stderr",
     "output_type": "stream",
     "text": [
      "Epoch=0/6:  38%|███▊      | 83/217 [00:10<00:16,  8.24it/s, acc=0.656, loss=0.654]"
     ]
    },
    {
     "name": "stdout",
     "output_type": "stream",
     "text": [
      "Got 16 / 32 with accuracy 50.00\n",
      "Got 21 / 32 with accuracy 65.62\n"
     ]
    },
    {
     "name": "stderr",
     "output_type": "stream",
     "text": [
      "Epoch=0/6:  38%|███▊      | 83/217 [00:10<00:16,  8.24it/s, acc=0.5, loss=0.706]  "
     ]
    },
    {
     "name": "stdout",
     "output_type": "stream",
     "text": [
      "Got 13 / 32 with accuracy 40.62\n",
      "Got 16 / 32 with accuracy 50.00\n"
     ]
    },
    {
     "name": "stderr",
     "output_type": "stream",
     "text": [
      "Epoch=0/6:  38%|███▊      | 83/217 [00:10<00:16,  8.24it/s, acc=0.562, loss=0.684]"
     ]
    },
    {
     "name": "stdout",
     "output_type": "stream",
     "text": [
      "Got 13 / 32 with accuracy 40.62\n",
      "Got 18 / 32 with accuracy 56.25\n"
     ]
    },
    {
     "name": "stderr",
     "output_type": "stream",
     "text": [
      "Epoch=0/6:  38%|███▊      | 83/217 [00:11<00:16,  8.24it/s, acc=0.469, loss=0.69] "
     ]
    },
    {
     "name": "stdout",
     "output_type": "stream",
     "text": [
      "Got 17 / 32 with accuracy 53.12\n",
      "Got 15 / 32 with accuracy 46.88\n"
     ]
    },
    {
     "name": "stderr",
     "output_type": "stream",
     "text": [
      "Epoch=0/6:  38%|███▊      | 83/217 [00:11<00:16,  8.24it/s, acc=0.5, loss=0.681]  "
     ]
    },
    {
     "name": "stdout",
     "output_type": "stream",
     "text": [
      "Got 19 / 32 with accuracy 59.38\n",
      "Got 16 / 32 with accuracy 50.00\n"
     ]
    },
    {
     "name": "stderr",
     "output_type": "stream",
     "text": [
      "Epoch=0/6:  38%|███▊      | 83/217 [00:11<00:16,  8.24it/s, acc=0.594, loss=0.679]"
     ]
    },
    {
     "name": "stdout",
     "output_type": "stream",
     "text": [
      "Got 20 / 32 with accuracy 62.50\n",
      "Got 19 / 32 with accuracy 59.38\n"
     ]
    },
    {
     "name": "stderr",
     "output_type": "stream",
     "text": [
      "Epoch=0/6:  38%|███▊      | 83/217 [00:11<00:16,  8.24it/s, acc=0.531, loss=0.69] "
     ]
    },
    {
     "name": "stdout",
     "output_type": "stream",
     "text": [
      "Got 18 / 32 with accuracy 56.25\n",
      "Got 17 / 32 with accuracy 53.12\n"
     ]
    },
    {
     "name": "stderr",
     "output_type": "stream",
     "text": [
      "Epoch=0/6:  38%|███▊      | 83/217 [00:12<00:16,  8.24it/s, acc=0.438, loss=0.684]"
     ]
    },
    {
     "name": "stdout",
     "output_type": "stream",
     "text": [
      "Got 16 / 32 with accuracy 50.00\n",
      "Got 14 / 32 with accuracy 43.75\n"
     ]
    },
    {
     "name": "stderr",
     "output_type": "stream",
     "text": [
      "Epoch=0/6:  38%|███▊      | 83/217 [00:12<00:16,  8.24it/s, acc=0.531, loss=0.701]"
     ]
    },
    {
     "name": "stdout",
     "output_type": "stream",
     "text": [
      "Got 14 / 32 with accuracy 43.75\n",
      "Got 17 / 32 with accuracy 53.12\n"
     ]
    },
    {
     "name": "stderr",
     "output_type": "stream",
     "text": [
      "Epoch=0/6:  38%|███▊      | 83/217 [00:12<00:16,  8.24it/s, acc=0.531, loss=0.709]"
     ]
    },
    {
     "name": "stdout",
     "output_type": "stream",
     "text": [
      "Got 24 / 32 with accuracy 75.00\n",
      "Got 17 / 32 with accuracy 53.12\n"
     ]
    },
    {
     "name": "stderr",
     "output_type": "stream",
     "text": [
      "Epoch=0/6:  38%|███▊      | 83/217 [00:12<00:16,  8.24it/s, acc=0.531, loss=0.703]"
     ]
    },
    {
     "name": "stdout",
     "output_type": "stream",
     "text": [
      "Got 20 / 32 with accuracy 62.50\n",
      "Got 17 / 32 with accuracy 53.12\n"
     ]
    },
    {
     "name": "stderr",
     "output_type": "stream",
     "text": [
      "Epoch=0/6:  38%|███▊      | 83/217 [00:13<00:16,  8.24it/s, acc=0.5, loss=0.7]    "
     ]
    },
    {
     "name": "stdout",
     "output_type": "stream",
     "text": [
      "Got 16 / 32 with accuracy 50.00\n",
      "Got 16 / 32 with accuracy 50.00\n"
     ]
    },
    {
     "name": "stderr",
     "output_type": "stream",
     "text": [
      "Epoch=0/6:  38%|███▊      | 83/217 [00:13<00:16,  8.24it/s, acc=0.406, loss=0.714]"
     ]
    },
    {
     "name": "stdout",
     "output_type": "stream",
     "text": [
      "Got 13 / 32 with accuracy 40.62\n",
      "Got 13 / 32 with accuracy 40.62\n"
     ]
    },
    {
     "name": "stderr",
     "output_type": "stream",
     "text": [
      "Epoch=0/6:  38%|███▊      | 83/217 [00:13<00:16,  8.24it/s, acc=0.469, loss=0.693]"
     ]
    },
    {
     "name": "stdout",
     "output_type": "stream",
     "text": [
      "Got 15 / 32 with accuracy 46.88\n",
      "Got 15 / 32 with accuracy 46.88\n"
     ]
    },
    {
     "name": "stderr",
     "output_type": "stream",
     "text": [
      "Epoch=0/6:  38%|███▊      | 83/217 [00:13<00:16,  8.24it/s, acc=0.562, loss=0.684]"
     ]
    },
    {
     "name": "stdout",
     "output_type": "stream",
     "text": [
      "Got 16 / 32 with accuracy 50.00\n",
      "Got 18 / 32 with accuracy 56.25\n"
     ]
    },
    {
     "name": "stderr",
     "output_type": "stream",
     "text": [
      "Epoch=0/6:  38%|███▊      | 83/217 [00:14<00:16,  8.24it/s, acc=0.594, loss=0.669]"
     ]
    },
    {
     "name": "stdout",
     "output_type": "stream",
     "text": [
      "Got 17 / 32 with accuracy 53.12\n",
      "Got 19 / 32 with accuracy 59.38\n"
     ]
    },
    {
     "name": "stderr",
     "output_type": "stream",
     "text": [
      "Epoch=0/6:  38%|███▊      | 83/217 [00:14<00:16,  8.24it/s, acc=0.656, loss=0.673]"
     ]
    },
    {
     "name": "stdout",
     "output_type": "stream",
     "text": [
      "Got 14 / 32 with accuracy 43.75\n",
      "Got 21 / 32 with accuracy 65.62\n"
     ]
    },
    {
     "name": "stderr",
     "output_type": "stream",
     "text": [
      "Epoch=0/6:  38%|███▊      | 83/217 [00:14<00:16,  8.24it/s, acc=0.469, loss=0.696]"
     ]
    },
    {
     "name": "stdout",
     "output_type": "stream",
     "text": [
      "Got 15 / 32 with accuracy 46.88\n",
      "Got 15 / 32 with accuracy 46.88\n"
     ]
    },
    {
     "name": "stderr",
     "output_type": "stream",
     "text": [
      "Epoch=0/6:  38%|███▊      | 83/217 [00:14<00:16,  8.24it/s, acc=0.344, loss=0.711]"
     ]
    },
    {
     "name": "stdout",
     "output_type": "stream",
     "text": [
      "Got 15 / 32 with accuracy 46.88\n",
      "Got 11 / 32 with accuracy 34.38\n"
     ]
    },
    {
     "name": "stderr",
     "output_type": "stream",
     "text": [
      "Epoch=0/6:  38%|███▊      | 83/217 [00:15<00:16,  8.24it/s, acc=0.594, loss=0.692]"
     ]
    },
    {
     "name": "stdout",
     "output_type": "stream",
     "text": [
      "Got 16 / 32 with accuracy 50.00\n",
      "Got 19 / 32 with accuracy 59.38\n"
     ]
    },
    {
     "name": "stderr",
     "output_type": "stream",
     "text": [
      "Epoch=0/6:  38%|███▊      | 83/217 [00:15<00:16,  8.24it/s, acc=0.531, loss=0.687]"
     ]
    },
    {
     "name": "stdout",
     "output_type": "stream",
     "text": [
      "Got 15 / 32 with accuracy 46.88\n",
      "Got 17 / 32 with accuracy 53.12\n"
     ]
    },
    {
     "name": "stderr",
     "output_type": "stream",
     "text": [
      "Epoch=0/6:  38%|███▊      | 83/217 [00:15<00:16,  8.24it/s, acc=0.5, loss=0.687]  "
     ]
    },
    {
     "name": "stdout",
     "output_type": "stream",
     "text": [
      "Got 21 / 32 with accuracy 65.62\n",
      "Got 16 / 32 with accuracy 50.00\n"
     ]
    },
    {
     "name": "stderr",
     "output_type": "stream",
     "text": [
      "Epoch=0/6:  38%|███▊      | 83/217 [00:15<00:16,  8.24it/s, acc=0.438, loss=0.705]"
     ]
    },
    {
     "name": "stdout",
     "output_type": "stream",
     "text": [
      "Got 17 / 32 with accuracy 53.12\n",
      "Got 14 / 32 with accuracy 43.75\n"
     ]
    },
    {
     "name": "stderr",
     "output_type": "stream",
     "text": [
      "Epoch=0/6:  38%|███▊      | 83/217 [00:16<00:16,  8.24it/s, acc=0.625, loss=0.696]"
     ]
    },
    {
     "name": "stdout",
     "output_type": "stream",
     "text": [
      "Got 16 / 32 with accuracy 50.00\n",
      "Got 20 / 32 with accuracy 62.50\n"
     ]
    },
    {
     "name": "stderr",
     "output_type": "stream",
     "text": [
      "Epoch=0/6:  38%|███▊      | 83/217 [00:16<00:16,  8.24it/s, acc=0.531, loss=0.698]"
     ]
    },
    {
     "name": "stdout",
     "output_type": "stream",
     "text": [
      "Got 12 / 32 with accuracy 37.50\n",
      "Got 17 / 32 with accuracy 53.12\n"
     ]
    },
    {
     "name": "stderr",
     "output_type": "stream",
     "text": [
      "Epoch=0/6:  38%|███▊      | 83/217 [00:16<00:16,  8.24it/s, acc=0.594, loss=0.686]"
     ]
    },
    {
     "name": "stdout",
     "output_type": "stream",
     "text": [
      "Got 16 / 32 with accuracy 50.00\n",
      "Got 19 / 32 with accuracy 59.38\n"
     ]
    },
    {
     "name": "stderr",
     "output_type": "stream",
     "text": [
      "Epoch=0/6:  38%|███▊      | 83/217 [00:16<00:16,  8.24it/s, acc=0.5, loss=0.681]  "
     ]
    },
    {
     "name": "stdout",
     "output_type": "stream",
     "text": [
      "Got 19 / 32 with accuracy 59.38\n",
      "Got 16 / 32 with accuracy 50.00\n"
     ]
    },
    {
     "name": "stderr",
     "output_type": "stream",
     "text": [
      "Epoch=0/6:  38%|███▊      | 83/217 [00:16<00:16,  8.24it/s, acc=0.469, loss=0.701]"
     ]
    },
    {
     "name": "stdout",
     "output_type": "stream",
     "text": [
      "Got 15 / 32 with accuracy 46.88\n",
      "Got 15 / 32 with accuracy 46.88\n"
     ]
    },
    {
     "name": "stderr",
     "output_type": "stream",
     "text": [
      "Epoch=0/6:  38%|███▊      | 83/217 [00:17<00:16,  8.24it/s, acc=0.656, loss=0.669]"
     ]
    },
    {
     "name": "stdout",
     "output_type": "stream",
     "text": [
      "Got 16 / 32 with accuracy 50.00\n",
      "Got 21 / 32 with accuracy 65.62\n"
     ]
    },
    {
     "name": "stderr",
     "output_type": "stream",
     "text": [
      "Epoch=0/6:  38%|███▊      | 83/217 [00:17<00:16,  8.24it/s, acc=0.5, loss=0.692]  "
     ]
    },
    {
     "name": "stdout",
     "output_type": "stream",
     "text": [
      "Got 11 / 32 with accuracy 34.38\n",
      "Got 16 / 32 with accuracy 50.00\n"
     ]
    },
    {
     "name": "stderr",
     "output_type": "stream",
     "text": [
      "Epoch=0/6:  38%|███▊      | 83/217 [00:17<00:16,  8.24it/s, acc=0.75, loss=0.667] "
     ]
    },
    {
     "name": "stdout",
     "output_type": "stream",
     "text": [
      "Got 12 / 32 with accuracy 37.50\n",
      "Got 24 / 32 with accuracy 75.00\n"
     ]
    },
    {
     "name": "stderr",
     "output_type": "stream",
     "text": [
      "Epoch=0/6:  38%|███▊      | 83/217 [00:17<00:16,  8.24it/s, acc=0.5, loss=0.693] "
     ]
    },
    {
     "name": "stdout",
     "output_type": "stream",
     "text": [
      "Got 16 / 32 with accuracy 50.00\n",
      "Got 16 / 32 with accuracy 50.00\n"
     ]
    },
    {
     "name": "stderr",
     "output_type": "stream",
     "text": [
      "Epoch=0/6:  38%|███▊      | 83/217 [00:18<00:16,  8.24it/s, acc=0.5, loss=0.705]  "
     ]
    },
    {
     "name": "stdout",
     "output_type": "stream",
     "text": [
      "Got 14 / 32 with accuracy 43.75\n",
      "Got 16 / 32 with accuracy 50.00\n"
     ]
    },
    {
     "name": "stderr",
     "output_type": "stream",
     "text": [
      "Epoch=0/6:  38%|███▊      | 83/217 [00:18<00:16,  8.24it/s, acc=0.406, loss=0.695]"
     ]
    },
    {
     "name": "stdout",
     "output_type": "stream",
     "text": [
      "Got 19 / 32 with accuracy 59.38\n",
      "Got 13 / 32 with accuracy 40.62\n"
     ]
    },
    {
     "name": "stderr",
     "output_type": "stream",
     "text": [
      "Epoch=0/6:  38%|███▊      | 83/217 [00:18<00:16,  8.24it/s, acc=0.5, loss=0.714]  "
     ]
    },
    {
     "name": "stdout",
     "output_type": "stream",
     "text": [
      "Got 18 / 32 with accuracy 56.25\n",
      "Got 16 / 32 with accuracy 50.00\n"
     ]
    },
    {
     "name": "stderr",
     "output_type": "stream",
     "text": [
      "Epoch=0/6:  38%|███▊      | 83/217 [00:18<00:16,  8.24it/s, acc=0.625, loss=0.693]"
     ]
    },
    {
     "name": "stdout",
     "output_type": "stream",
     "text": [
      "Got 21 / 32 with accuracy 65.62\n",
      "Got 20 / 32 with accuracy 62.50\n"
     ]
    },
    {
     "name": "stderr",
     "output_type": "stream",
     "text": [
      "Epoch=0/6:  38%|███▊      | 83/217 [00:19<00:16,  8.24it/s, acc=0.625, loss=0.683]"
     ]
    },
    {
     "name": "stdout",
     "output_type": "stream",
     "text": [
      "Got 20 / 32 with accuracy 62.50\n",
      "Got 20 / 32 with accuracy 62.50\n"
     ]
    },
    {
     "name": "stderr",
     "output_type": "stream",
     "text": [
      "Epoch=0/6:  38%|███▊      | 83/217 [00:19<00:16,  8.24it/s, acc=0.562, loss=0.678]"
     ]
    },
    {
     "name": "stdout",
     "output_type": "stream",
     "text": [
      "Got 19 / 32 with accuracy 59.38\n",
      "Got 18 / 32 with accuracy 56.25\n"
     ]
    },
    {
     "name": "stderr",
     "output_type": "stream",
     "text": [
      "Epoch=0/6:  38%|███▊      | 83/217 [00:19<00:16,  8.24it/s, acc=0.438, loss=0.696]"
     ]
    },
    {
     "name": "stdout",
     "output_type": "stream",
     "text": [
      "Got 20 / 32 with accuracy 62.50\n",
      "Got 14 / 32 with accuracy 43.75\n"
     ]
    },
    {
     "name": "stderr",
     "output_type": "stream",
     "text": [
      "Epoch=0/6:  38%|███▊      | 83/217 [00:19<00:16,  8.24it/s, acc=0.625, loss=0.664]"
     ]
    },
    {
     "name": "stdout",
     "output_type": "stream",
     "text": [
      "Got 19 / 32 with accuracy 59.38\n",
      "Got 20 / 32 with accuracy 62.50\n"
     ]
    },
    {
     "name": "stderr",
     "output_type": "stream",
     "text": [
      "Epoch=0/6:  76%|███████▋  | 166/217 [00:20<00:06,  8.24it/s, acc=0.5, loss=0.705] "
     ]
    },
    {
     "name": "stdout",
     "output_type": "stream",
     "text": [
      "Got 22 / 32 with accuracy 68.75\n",
      "Got 16 / 32 with accuracy 50.00\n"
     ]
    },
    {
     "name": "stderr",
     "output_type": "stream",
     "text": [
      "Epoch=0/6:  76%|███████▋  | 166/217 [00:20<00:06,  8.24it/s, acc=0.625, loss=0.686]"
     ]
    },
    {
     "name": "stdout",
     "output_type": "stream",
     "text": [
      "Got 14 / 32 with accuracy 43.75\n",
      "Got 20 / 32 with accuracy 62.50\n"
     ]
    },
    {
     "name": "stderr",
     "output_type": "stream",
     "text": [
      "Epoch=0/6:  76%|███████▋  | 166/217 [00:20<00:06,  8.24it/s, acc=0.5, loss=0.686]  "
     ]
    },
    {
     "name": "stdout",
     "output_type": "stream",
     "text": [
      "Got 12 / 32 with accuracy 37.50\n",
      "Got 16 / 32 with accuracy 50.00\n"
     ]
    },
    {
     "name": "stderr",
     "output_type": "stream",
     "text": [
      "Epoch=0/6:  76%|███████▋  | 166/217 [00:20<00:06,  8.24it/s, acc=0.344, loss=0.708]"
     ]
    },
    {
     "name": "stdout",
     "output_type": "stream",
     "text": [
      "Got 14 / 32 with accuracy 43.75\n",
      "Got 11 / 32 with accuracy 34.38\n"
     ]
    },
    {
     "name": "stderr",
     "output_type": "stream",
     "text": [
      "Epoch=0/6:  76%|███████▋  | 166/217 [00:21<00:06,  8.24it/s, acc=0.5, loss=0.681]  "
     ]
    },
    {
     "name": "stdout",
     "output_type": "stream",
     "text": [
      "Got 20 / 32 with accuracy 62.50\n",
      "Got 16 / 32 with accuracy 50.00\n"
     ]
    },
    {
     "name": "stderr",
     "output_type": "stream",
     "text": [
      "Epoch=0/6:  76%|███████▋  | 166/217 [00:21<00:06,  8.24it/s, acc=0.5, loss=0.688]  "
     ]
    },
    {
     "name": "stdout",
     "output_type": "stream",
     "text": [
      "Got 14 / 32 with accuracy 43.75\n",
      "Got 16 / 32 with accuracy 50.00\n"
     ]
    },
    {
     "name": "stderr",
     "output_type": "stream",
     "text": [
      "Epoch=0/6:  76%|███████▋  | 166/217 [00:21<00:06,  8.24it/s, acc=0.562, loss=0.688]"
     ]
    },
    {
     "name": "stdout",
     "output_type": "stream",
     "text": [
      "Got 23 / 32 with accuracy 71.88\n",
      "Got 18 / 32 with accuracy 56.25\n"
     ]
    },
    {
     "name": "stderr",
     "output_type": "stream",
     "text": [
      "Epoch=0/6:  76%|███████▋  | 166/217 [00:21<00:06,  8.24it/s, acc=0.5, loss=0.699]  "
     ]
    },
    {
     "name": "stdout",
     "output_type": "stream",
     "text": [
      "Got 14 / 32 with accuracy 43.75\n",
      "Got 16 / 32 with accuracy 50.00\n"
     ]
    },
    {
     "name": "stderr",
     "output_type": "stream",
     "text": [
      "Epoch=0/6:  76%|███████▋  | 166/217 [00:22<00:06,  8.24it/s, acc=0.438, loss=0.724]"
     ]
    },
    {
     "name": "stdout",
     "output_type": "stream",
     "text": [
      "Got 21 / 32 with accuracy 65.62\n",
      "Got 14 / 32 with accuracy 43.75\n"
     ]
    },
    {
     "name": "stderr",
     "output_type": "stream",
     "text": [
      "Epoch=0/6:  76%|███████▋  | 166/217 [00:22<00:06,  8.24it/s, acc=0.656, loss=0.664]"
     ]
    },
    {
     "name": "stdout",
     "output_type": "stream",
     "text": [
      "Got 15 / 32 with accuracy 46.88\n",
      "Got 21 / 32 with accuracy 65.62\n"
     ]
    },
    {
     "name": "stderr",
     "output_type": "stream",
     "text": [
      "Epoch=0/6:  76%|███████▋  | 166/217 [00:22<00:06,  8.24it/s, acc=0.469, loss=0.693]"
     ]
    },
    {
     "name": "stdout",
     "output_type": "stream",
     "text": [
      "Got 15 / 32 with accuracy 46.88\n",
      "Got 15 / 32 with accuracy 46.88\n"
     ]
    },
    {
     "name": "stderr",
     "output_type": "stream",
     "text": [
      "Epoch=0/6:  76%|███████▋  | 166/217 [00:22<00:06,  8.24it/s, acc=0.469, loss=0.702]"
     ]
    },
    {
     "name": "stdout",
     "output_type": "stream",
     "text": [
      "Got 13 / 32 with accuracy 40.62\n",
      "Got 15 / 32 with accuracy 46.88\n"
     ]
    },
    {
     "name": "stderr",
     "output_type": "stream",
     "text": [
      "Epoch=0/6:  76%|███████▋  | 166/217 [00:23<00:06,  8.24it/s, acc=0.5, loss=0.686]  "
     ]
    },
    {
     "name": "stdout",
     "output_type": "stream",
     "text": [
      "Got 18 / 32 with accuracy 56.25\n",
      "Got 16 / 32 with accuracy 50.00\n"
     ]
    },
    {
     "name": "stderr",
     "output_type": "stream",
     "text": [
      "Epoch=0/6:  76%|███████▋  | 166/217 [00:23<00:06,  8.24it/s, acc=0.562, loss=0.703]"
     ]
    },
    {
     "name": "stdout",
     "output_type": "stream",
     "text": [
      "Got 17 / 32 with accuracy 53.12\n",
      "Got 18 / 32 with accuracy 56.25\n"
     ]
    },
    {
     "name": "stderr",
     "output_type": "stream",
     "text": [
      "Epoch=0/6:  76%|███████▋  | 166/217 [00:23<00:06,  8.24it/s, acc=0.438, loss=0.699]"
     ]
    },
    {
     "name": "stdout",
     "output_type": "stream",
     "text": [
      "Got 20 / 32 with accuracy 62.50\n",
      "Got 14 / 32 with accuracy 43.75\n"
     ]
    },
    {
     "name": "stderr",
     "output_type": "stream",
     "text": [
      "Epoch=0/6:  76%|███████▋  | 166/217 [00:23<00:06,  8.24it/s, acc=0.469, loss=0.694]"
     ]
    },
    {
     "name": "stdout",
     "output_type": "stream",
     "text": [
      "Got 18 / 32 with accuracy 56.25\n",
      "Got 15 / 32 with accuracy 46.88\n"
     ]
    },
    {
     "name": "stderr",
     "output_type": "stream",
     "text": [
      "Epoch=0/6:  76%|███████▋  | 166/217 [00:24<00:06,  8.24it/s, acc=0.531, loss=0.68] "
     ]
    },
    {
     "name": "stdout",
     "output_type": "stream",
     "text": [
      "Got 16 / 32 with accuracy 50.00\n",
      "Got 17 / 32 with accuracy 53.12\n"
     ]
    },
    {
     "name": "stderr",
     "output_type": "stream",
     "text": [
      "Epoch=0/6:  76%|███████▋  | 166/217 [00:24<00:06,  8.24it/s, acc=0.469, loss=0.709]"
     ]
    },
    {
     "name": "stdout",
     "output_type": "stream",
     "text": [
      "Got 17 / 32 with accuracy 53.12\n",
      "Got 15 / 32 with accuracy 46.88\n"
     ]
    },
    {
     "name": "stderr",
     "output_type": "stream",
     "text": [
      "Epoch=0/6:  76%|███████▋  | 166/217 [00:24<00:06,  8.24it/s, acc=0.5, loss=0.702]  "
     ]
    },
    {
     "name": "stdout",
     "output_type": "stream",
     "text": [
      "Got 11 / 32 with accuracy 34.38\n",
      "Got 16 / 32 with accuracy 50.00\n"
     ]
    },
    {
     "name": "stderr",
     "output_type": "stream",
     "text": [
      "Epoch=0/6:  76%|███████▋  | 166/217 [00:24<00:06,  8.24it/s, acc=0.469, loss=0.692]"
     ]
    },
    {
     "name": "stdout",
     "output_type": "stream",
     "text": [
      "Got 19 / 32 with accuracy 59.38\n",
      "Got 15 / 32 with accuracy 46.88\n"
     ]
    },
    {
     "name": "stderr",
     "output_type": "stream",
     "text": [
      "Epoch=0/6:  76%|███████▋  | 166/217 [00:25<00:06,  8.24it/s, acc=0.531, loss=0.675]"
     ]
    },
    {
     "name": "stdout",
     "output_type": "stream",
     "text": [
      "Got 19 / 32 with accuracy 59.38\n",
      "Got 17 / 32 with accuracy 53.12\n"
     ]
    },
    {
     "name": "stderr",
     "output_type": "stream",
     "text": [
      "Epoch=0/6:  76%|███████▋  | 166/217 [00:25<00:06,  8.24it/s, acc=0.625, loss=0.662]"
     ]
    },
    {
     "name": "stdout",
     "output_type": "stream",
     "text": [
      "Got 19 / 32 with accuracy 59.38\n",
      "Got 20 / 32 with accuracy 62.50\n"
     ]
    },
    {
     "name": "stderr",
     "output_type": "stream",
     "text": [
      "Epoch=0/6:  76%|███████▋  | 166/217 [00:25<00:06,  8.24it/s, acc=0.625, loss=0.681]"
     ]
    },
    {
     "name": "stdout",
     "output_type": "stream",
     "text": [
      "Got 11 / 32 with accuracy 34.38\n",
      "Got 20 / 32 with accuracy 62.50\n"
     ]
    },
    {
     "name": "stderr",
     "output_type": "stream",
     "text": [
      "Epoch=0/6:  76%|███████▋  | 166/217 [00:25<00:06,  8.24it/s, acc=0.406, loss=0.696]"
     ]
    },
    {
     "name": "stdout",
     "output_type": "stream",
     "text": [
      "Got 17 / 32 with accuracy 53.12\n",
      "Got 13 / 32 with accuracy 40.62\n"
     ]
    },
    {
     "name": "stderr",
     "output_type": "stream",
     "text": [
      "Epoch=0/6:  76%|███████▋  | 166/217 [00:25<00:06,  8.24it/s, acc=0.562, loss=0.694]"
     ]
    },
    {
     "name": "stdout",
     "output_type": "stream",
     "text": [
      "Got 14 / 32 with accuracy 43.75\n",
      "Got 18 / 32 with accuracy 56.25\n"
     ]
    },
    {
     "name": "stderr",
     "output_type": "stream",
     "text": [
      "                                                                                   \r"
     ]
    },
    {
     "name": "stdout",
     "output_type": "stream",
     "text": [
      "Got 17 / 32 with accuracy 53.12\n",
      "Got 20 / 32 with accuracy 62.50\n",
      "Got 3 / 8 with accuracy 37.50\n"
     ]
    },
    {
     "name": "stderr",
     "output_type": "stream",
     "text": [
      "Epoch=1/6:   0%|          | 0/217 [00:00<?, ?it/s, acc=0.75, loss=0.679] "
     ]
    },
    {
     "name": "stdout",
     "output_type": "stream",
     "text": [
      "Got 15 / 32 with accuracy 46.88\n",
      "Got 24 / 32 with accuracy 75.00\n"
     ]
    },
    {
     "name": "stderr",
     "output_type": "stream",
     "text": [
      "Epoch=1/6:   0%|          | 0/217 [00:00<?, ?it/s, acc=0.562, loss=0.699]"
     ]
    },
    {
     "name": "stdout",
     "output_type": "stream",
     "text": [
      "Got 18 / 32 with accuracy 56.25\n",
      "Got 18 / 32 with accuracy 56.25\n"
     ]
    },
    {
     "name": "stderr",
     "output_type": "stream",
     "text": [
      "Epoch=1/6:   0%|          | 0/217 [00:00<?, ?it/s, acc=0.531, loss=0.69] "
     ]
    },
    {
     "name": "stdout",
     "output_type": "stream",
     "text": [
      "Got 16 / 32 with accuracy 50.00\n",
      "Got 17 / 32 with accuracy 53.12\n"
     ]
    },
    {
     "name": "stderr",
     "output_type": "stream",
     "text": [
      "Epoch=1/6:   0%|          | 0/217 [00:00<?, ?it/s, acc=0.594, loss=0.683]"
     ]
    },
    {
     "name": "stdout",
     "output_type": "stream",
     "text": [
      "Got 18 / 32 with accuracy 56.25\n",
      "Got 19 / 32 with accuracy 59.38\n"
     ]
    },
    {
     "name": "stderr",
     "output_type": "stream",
     "text": [
      "Epoch=1/6:   0%|          | 0/217 [00:01<?, ?it/s, acc=0.438, loss=0.7]  "
     ]
    },
    {
     "name": "stdout",
     "output_type": "stream",
     "text": [
      "Got 20 / 32 with accuracy 62.50\n",
      "Got 14 / 32 with accuracy 43.75\n"
     ]
    },
    {
     "name": "stderr",
     "output_type": "stream",
     "text": [
      "Epoch=1/6:   0%|          | 0/217 [00:01<?, ?it/s, acc=0.375, loss=0.71]"
     ]
    },
    {
     "name": "stdout",
     "output_type": "stream",
     "text": [
      "Got 16 / 32 with accuracy 50.00\n",
      "Got 12 / 32 with accuracy 37.50\n"
     ]
    },
    {
     "name": "stderr",
     "output_type": "stream",
     "text": [
      "Epoch=1/6:   0%|          | 0/217 [00:01<?, ?it/s, acc=0.469, loss=0.708]"
     ]
    },
    {
     "name": "stdout",
     "output_type": "stream",
     "text": [
      "Got 19 / 32 with accuracy 59.38\n",
      "Got 15 / 32 with accuracy 46.88\n"
     ]
    },
    {
     "name": "stderr",
     "output_type": "stream",
     "text": [
      "Epoch=1/6:   0%|          | 0/217 [00:01<?, ?it/s, acc=0.562, loss=0.689]"
     ]
    },
    {
     "name": "stdout",
     "output_type": "stream",
     "text": [
      "Got 13 / 32 with accuracy 40.62\n",
      "Got 18 / 32 with accuracy 56.25\n"
     ]
    },
    {
     "name": "stderr",
     "output_type": "stream",
     "text": [
      "Epoch=1/6:   0%|          | 0/217 [00:02<?, ?it/s, acc=0.438, loss=0.689]"
     ]
    },
    {
     "name": "stdout",
     "output_type": "stream",
     "text": [
      "Got 15 / 32 with accuracy 46.88\n",
      "Got 14 / 32 with accuracy 43.75\n"
     ]
    },
    {
     "name": "stderr",
     "output_type": "stream",
     "text": [
      "Epoch=1/6:   0%|          | 0/217 [00:02<?, ?it/s, acc=0.625, loss=0.696]"
     ]
    },
    {
     "name": "stdout",
     "output_type": "stream",
     "text": [
      "Got 16 / 32 with accuracy 50.00\n",
      "Got 20 / 32 with accuracy 62.50\n"
     ]
    },
    {
     "name": "stderr",
     "output_type": "stream",
     "text": [
      "Epoch=1/6:   0%|          | 0/217 [00:02<?, ?it/s, acc=0.594, loss=0.686]"
     ]
    },
    {
     "name": "stdout",
     "output_type": "stream",
     "text": [
      "Got 15 / 32 with accuracy 46.88\n",
      "Got 19 / 32 with accuracy 59.38\n"
     ]
    },
    {
     "name": "stderr",
     "output_type": "stream",
     "text": [
      "Epoch=1/6:   0%|          | 0/217 [00:02<?, ?it/s, acc=0.531, loss=0.689]"
     ]
    },
    {
     "name": "stdout",
     "output_type": "stream",
     "text": [
      "Got 20 / 32 with accuracy 62.50\n",
      "Got 17 / 32 with accuracy 53.12\n"
     ]
    },
    {
     "name": "stderr",
     "output_type": "stream",
     "text": [
      "Epoch=1/6:   0%|          | 0/217 [00:03<?, ?it/s, acc=0.375, loss=0.715]"
     ]
    },
    {
     "name": "stdout",
     "output_type": "stream",
     "text": [
      "Got 18 / 32 with accuracy 56.25\n",
      "Got 12 / 32 with accuracy 37.50\n"
     ]
    },
    {
     "name": "stderr",
     "output_type": "stream",
     "text": [
      "Epoch=1/6:   0%|          | 0/217 [00:03<?, ?it/s, acc=0.375, loss=0.698]"
     ]
    },
    {
     "name": "stdout",
     "output_type": "stream",
     "text": [
      "Got 18 / 32 with accuracy 56.25\n",
      "Got 12 / 32 with accuracy 37.50\n"
     ]
    },
    {
     "name": "stderr",
     "output_type": "stream",
     "text": [
      "Epoch=1/6:   0%|          | 0/217 [00:03<?, ?it/s, acc=0.406, loss=0.71] "
     ]
    },
    {
     "name": "stdout",
     "output_type": "stream",
     "text": [
      "Got 18 / 32 with accuracy 56.25\n",
      "Got 13 / 32 with accuracy 40.62\n"
     ]
    },
    {
     "name": "stderr",
     "output_type": "stream",
     "text": [
      "Epoch=1/6:   0%|          | 0/217 [00:03<?, ?it/s, acc=0.469, loss=0.703]"
     ]
    },
    {
     "name": "stdout",
     "output_type": "stream",
     "text": [
      "Got 18 / 32 with accuracy 56.25\n",
      "Got 15 / 32 with accuracy 46.88\n"
     ]
    },
    {
     "name": "stderr",
     "output_type": "stream",
     "text": [
      "Epoch=1/6:   0%|          | 0/217 [00:04<?, ?it/s, acc=0.531, loss=0.706]"
     ]
    },
    {
     "name": "stdout",
     "output_type": "stream",
     "text": [
      "Got 17 / 32 with accuracy 53.12\n",
      "Got 17 / 32 with accuracy 53.12\n"
     ]
    },
    {
     "name": "stderr",
     "output_type": "stream",
     "text": [
      "Epoch=1/6:   0%|          | 0/217 [00:04<?, ?it/s, acc=0.5, loss=0.689]  "
     ]
    },
    {
     "name": "stdout",
     "output_type": "stream",
     "text": [
      "Got 18 / 32 with accuracy 56.25\n",
      "Got 16 / 32 with accuracy 50.00\n"
     ]
    },
    {
     "name": "stderr",
     "output_type": "stream",
     "text": [
      "Epoch=1/6:   0%|          | 0/217 [00:04<?, ?it/s, acc=0.438, loss=0.698]"
     ]
    },
    {
     "name": "stdout",
     "output_type": "stream",
     "text": [
      "Got 14 / 32 with accuracy 43.75\n",
      "Got 14 / 32 with accuracy 43.75\n"
     ]
    },
    {
     "name": "stderr",
     "output_type": "stream",
     "text": [
      "Epoch=1/6:   0%|          | 0/217 [00:04<?, ?it/s, acc=0.625, loss=0.666]"
     ]
    },
    {
     "name": "stdout",
     "output_type": "stream",
     "text": [
      "Got 18 / 32 with accuracy 56.25\n",
      "Got 20 / 32 with accuracy 62.50\n"
     ]
    },
    {
     "name": "stderr",
     "output_type": "stream",
     "text": [
      "Epoch=1/6:   0%|          | 0/217 [00:05<?, ?it/s, acc=0.5, loss=0.707]  "
     ]
    },
    {
     "name": "stdout",
     "output_type": "stream",
     "text": [
      "Got 15 / 32 with accuracy 46.88\n",
      "Got 16 / 32 with accuracy 50.00\n"
     ]
    },
    {
     "name": "stderr",
     "output_type": "stream",
     "text": [
      "Epoch=1/6:   0%|          | 0/217 [00:05<?, ?it/s, acc=0.531, loss=0.69] "
     ]
    },
    {
     "name": "stdout",
     "output_type": "stream",
     "text": [
      "Got 18 / 32 with accuracy 56.25\n",
      "Got 17 / 32 with accuracy 53.12\n"
     ]
    },
    {
     "name": "stderr",
     "output_type": "stream",
     "text": [
      "Epoch=1/6:   0%|          | 0/217 [00:05<?, ?it/s, acc=0.531, loss=0.69] "
     ]
    },
    {
     "name": "stdout",
     "output_type": "stream",
     "text": [
      "Got 18 / 32 with accuracy 56.25\n",
      "Got 17 / 32 with accuracy 53.12\n"
     ]
    },
    {
     "name": "stderr",
     "output_type": "stream",
     "text": [
      "Epoch=1/6:   0%|          | 0/217 [00:05<?, ?it/s, acc=0.469, loss=0.696]"
     ]
    },
    {
     "name": "stdout",
     "output_type": "stream",
     "text": [
      "Got 18 / 32 with accuracy 56.25\n",
      "Got 15 / 32 with accuracy 46.88\n"
     ]
    },
    {
     "name": "stderr",
     "output_type": "stream",
     "text": [
      "Epoch=1/6:   0%|          | 0/217 [00:06<?, ?it/s, acc=0.531, loss=0.673]"
     ]
    },
    {
     "name": "stdout",
     "output_type": "stream",
     "text": [
      "Got 16 / 32 with accuracy 50.00\n",
      "Got 17 / 32 with accuracy 53.12\n"
     ]
    },
    {
     "name": "stderr",
     "output_type": "stream",
     "text": [
      "Epoch=1/6:   0%|          | 0/217 [00:06<?, ?it/s, acc=0.469, loss=0.713]"
     ]
    },
    {
     "name": "stdout",
     "output_type": "stream",
     "text": [
      "Got 18 / 32 with accuracy 56.25\n",
      "Got 15 / 32 with accuracy 46.88\n"
     ]
    },
    {
     "name": "stderr",
     "output_type": "stream",
     "text": [
      "Epoch=1/6:   0%|          | 0/217 [00:06<?, ?it/s, acc=0.5, loss=0.696]  "
     ]
    },
    {
     "name": "stdout",
     "output_type": "stream",
     "text": [
      "Got 19 / 32 with accuracy 59.38\n",
      "Got 16 / 32 with accuracy 50.00\n"
     ]
    },
    {
     "name": "stderr",
     "output_type": "stream",
     "text": [
      "Epoch=1/6:   0%|          | 0/217 [00:06<?, ?it/s, acc=0.531, loss=0.694]"
     ]
    },
    {
     "name": "stdout",
     "output_type": "stream",
     "text": [
      "Got 17 / 32 with accuracy 53.12\n",
      "Got 17 / 32 with accuracy 53.12\n"
     ]
    },
    {
     "name": "stderr",
     "output_type": "stream",
     "text": [
      "Epoch=1/6:   0%|          | 0/217 [00:07<?, ?it/s, acc=0.469, loss=0.692]"
     ]
    },
    {
     "name": "stdout",
     "output_type": "stream",
     "text": [
      "Got 18 / 32 with accuracy 56.25\n",
      "Got 15 / 32 with accuracy 46.88\n"
     ]
    },
    {
     "name": "stderr",
     "output_type": "stream",
     "text": [
      "Epoch=1/6:   0%|          | 0/217 [00:07<?, ?it/s, acc=0.531, loss=0.683]"
     ]
    },
    {
     "name": "stdout",
     "output_type": "stream",
     "text": [
      "Got 21 / 32 with accuracy 65.62\n",
      "Got 17 / 32 with accuracy 53.12\n"
     ]
    },
    {
     "name": "stderr",
     "output_type": "stream",
     "text": [
      "Epoch=1/6:   0%|          | 0/217 [00:07<?, ?it/s, acc=0.562, loss=0.685]"
     ]
    },
    {
     "name": "stdout",
     "output_type": "stream",
     "text": [
      "Got 12 / 32 with accuracy 37.50\n",
      "Got 18 / 32 with accuracy 56.25\n"
     ]
    },
    {
     "name": "stderr",
     "output_type": "stream",
     "text": [
      "Epoch=1/6:   0%|          | 0/217 [00:07<?, ?it/s, acc=0.562, loss=0.7]  "
     ]
    },
    {
     "name": "stdout",
     "output_type": "stream",
     "text": [
      "Got 18 / 32 with accuracy 56.25\n",
      "Got 18 / 32 with accuracy 56.25\n"
     ]
    },
    {
     "name": "stderr",
     "output_type": "stream",
     "text": [
      "Epoch=1/6:   0%|          | 0/217 [00:08<?, ?it/s, acc=0.719, loss=0.661]"
     ]
    },
    {
     "name": "stdout",
     "output_type": "stream",
     "text": [
      "Got 17 / 32 with accuracy 53.12\n",
      "Got 23 / 32 with accuracy 71.88\n"
     ]
    },
    {
     "name": "stderr",
     "output_type": "stream",
     "text": [
      "Epoch=1/6:   0%|          | 0/217 [00:08<?, ?it/s, acc=0.5, loss=0.701]  "
     ]
    },
    {
     "name": "stdout",
     "output_type": "stream",
     "text": [
      "Got 14 / 32 with accuracy 43.75\n",
      "Got 16 / 32 with accuracy 50.00\n"
     ]
    },
    {
     "name": "stderr",
     "output_type": "stream",
     "text": [
      "Epoch=1/6:   0%|          | 0/217 [00:08<?, ?it/s, acc=0.594, loss=0.69]"
     ]
    },
    {
     "name": "stdout",
     "output_type": "stream",
     "text": [
      "Got 16 / 32 with accuracy 50.00\n",
      "Got 19 / 32 with accuracy 59.38\n"
     ]
    },
    {
     "name": "stderr",
     "output_type": "stream",
     "text": [
      "Epoch=1/6:   0%|          | 0/217 [00:08<?, ?it/s, acc=0.344, loss=0.708]"
     ]
    },
    {
     "name": "stdout",
     "output_type": "stream",
     "text": [
      "Got 13 / 32 with accuracy 40.62\n",
      "Got 11 / 32 with accuracy 34.38\n"
     ]
    },
    {
     "name": "stderr",
     "output_type": "stream",
     "text": [
      "Epoch=1/6:   0%|          | 0/217 [00:09<?, ?it/s, acc=0.438, loss=0.706]"
     ]
    },
    {
     "name": "stdout",
     "output_type": "stream",
     "text": [
      "Got 18 / 32 with accuracy 56.25\n",
      "Got 14 / 32 with accuracy 43.75\n"
     ]
    },
    {
     "name": "stderr",
     "output_type": "stream",
     "text": [
      "Epoch=1/6:   0%|          | 0/217 [00:09<?, ?it/s, acc=0.594, loss=0.685]"
     ]
    },
    {
     "name": "stdout",
     "output_type": "stream",
     "text": [
      "Got 11 / 32 with accuracy 34.38\n",
      "Got 19 / 32 with accuracy 59.38\n"
     ]
    },
    {
     "name": "stderr",
     "output_type": "stream",
     "text": [
      "Epoch=1/6:   0%|          | 0/217 [00:09<?, ?it/s, acc=0.469, loss=0.709]"
     ]
    },
    {
     "name": "stdout",
     "output_type": "stream",
     "text": [
      "Got 11 / 32 with accuracy 34.38\n",
      "Got 15 / 32 with accuracy 46.88\n"
     ]
    },
    {
     "name": "stderr",
     "output_type": "stream",
     "text": [
      "Epoch=1/6:   0%|          | 0/217 [00:09<?, ?it/s, acc=0.625, loss=0.677]"
     ]
    },
    {
     "name": "stdout",
     "output_type": "stream",
     "text": [
      "Got 20 / 32 with accuracy 62.50\n",
      "Got 20 / 32 with accuracy 62.50\n"
     ]
    },
    {
     "name": "stderr",
     "output_type": "stream",
     "text": [
      "Epoch=1/6:  38%|███▊      | 82/217 [00:10<00:16,  8.16it/s, acc=0.656, loss=0.664]"
     ]
    },
    {
     "name": "stdout",
     "output_type": "stream",
     "text": [
      "Got 18 / 32 with accuracy 56.25\n",
      "Got 21 / 32 with accuracy 65.62\n"
     ]
    },
    {
     "name": "stderr",
     "output_type": "stream",
     "text": [
      "Epoch=1/6:  38%|███▊      | 82/217 [00:10<00:16,  8.16it/s, acc=0.625, loss=0.68] "
     ]
    },
    {
     "name": "stdout",
     "output_type": "stream",
     "text": [
      "Got 16 / 32 with accuracy 50.00\n",
      "Got 20 / 32 with accuracy 62.50\n"
     ]
    },
    {
     "name": "stderr",
     "output_type": "stream",
     "text": [
      "Epoch=1/6:  38%|███▊      | 82/217 [00:10<00:16,  8.16it/s, acc=0.656, loss=0.667]"
     ]
    },
    {
     "name": "stdout",
     "output_type": "stream",
     "text": [
      "Got 16 / 32 with accuracy 50.00\n",
      "Got 21 / 32 with accuracy 65.62\n"
     ]
    },
    {
     "name": "stderr",
     "output_type": "stream",
     "text": [
      "Epoch=1/6:  38%|███▊      | 82/217 [00:10<00:16,  8.16it/s, acc=0.5, loss=0.713]  "
     ]
    },
    {
     "name": "stdout",
     "output_type": "stream",
     "text": [
      "Got 13 / 32 with accuracy 40.62\n",
      "Got 16 / 32 with accuracy 50.00\n"
     ]
    },
    {
     "name": "stderr",
     "output_type": "stream",
     "text": [
      "Epoch=1/6:  38%|███▊      | 82/217 [00:11<00:16,  8.16it/s, acc=0.562, loss=0.692]"
     ]
    },
    {
     "name": "stdout",
     "output_type": "stream",
     "text": [
      "Got 13 / 32 with accuracy 40.62\n",
      "Got 18 / 32 with accuracy 56.25\n"
     ]
    },
    {
     "name": "stderr",
     "output_type": "stream",
     "text": [
      "Epoch=1/6:  38%|███▊      | 82/217 [00:11<00:16,  8.16it/s, acc=0.469, loss=0.7]  "
     ]
    },
    {
     "name": "stdout",
     "output_type": "stream",
     "text": [
      "Got 17 / 32 with accuracy 53.12\n",
      "Got 15 / 32 with accuracy 46.88\n"
     ]
    },
    {
     "name": "stderr",
     "output_type": "stream",
     "text": [
      "Epoch=1/6:  38%|███▊      | 82/217 [00:11<00:16,  8.16it/s, acc=0.5, loss=0.7]    "
     ]
    },
    {
     "name": "stdout",
     "output_type": "stream",
     "text": [
      "Got 19 / 32 with accuracy 59.38\n",
      "Got 16 / 32 with accuracy 50.00\n"
     ]
    },
    {
     "name": "stderr",
     "output_type": "stream",
     "text": [
      "Epoch=1/6:  38%|███▊      | 82/217 [00:11<00:16,  8.16it/s, acc=0.594, loss=0.683]"
     ]
    },
    {
     "name": "stdout",
     "output_type": "stream",
     "text": [
      "Got 20 / 32 with accuracy 62.50\n",
      "Got 19 / 32 with accuracy 59.38\n"
     ]
    },
    {
     "name": "stderr",
     "output_type": "stream",
     "text": [
      "Epoch=1/6:  38%|███▊      | 82/217 [00:12<00:16,  8.16it/s, acc=0.531, loss=0.687]"
     ]
    },
    {
     "name": "stdout",
     "output_type": "stream",
     "text": [
      "Got 18 / 32 with accuracy 56.25\n",
      "Got 17 / 32 with accuracy 53.12\n"
     ]
    },
    {
     "name": "stderr",
     "output_type": "stream",
     "text": [
      "Epoch=1/6:  38%|███▊      | 82/217 [00:12<00:16,  8.16it/s, acc=0.438, loss=0.693]"
     ]
    },
    {
     "name": "stdout",
     "output_type": "stream",
     "text": [
      "Got 16 / 32 with accuracy 50.00\n",
      "Got 14 / 32 with accuracy 43.75\n"
     ]
    },
    {
     "name": "stderr",
     "output_type": "stream",
     "text": [
      "Epoch=1/6:  38%|███▊      | 82/217 [00:12<00:16,  8.16it/s, acc=0.531, loss=0.709]"
     ]
    },
    {
     "name": "stdout",
     "output_type": "stream",
     "text": [
      "Got 14 / 32 with accuracy 43.75\n",
      "Got 17 / 32 with accuracy 53.12\n"
     ]
    },
    {
     "name": "stderr",
     "output_type": "stream",
     "text": [
      "Epoch=1/6:  38%|███▊      | 82/217 [00:12<00:16,  8.16it/s, acc=0.531, loss=0.699]"
     ]
    },
    {
     "name": "stdout",
     "output_type": "stream",
     "text": [
      "Got 24 / 32 with accuracy 75.00\n",
      "Got 17 / 32 with accuracy 53.12\n"
     ]
    },
    {
     "name": "stderr",
     "output_type": "stream",
     "text": [
      "Epoch=1/6:  38%|███▊      | 82/217 [00:12<00:16,  8.16it/s, acc=0.531, loss=0.662]"
     ]
    },
    {
     "name": "stdout",
     "output_type": "stream",
     "text": [
      "Got 20 / 32 with accuracy 62.50\n",
      "Got 17 / 32 with accuracy 53.12\n"
     ]
    },
    {
     "name": "stderr",
     "output_type": "stream",
     "text": [
      "Epoch=1/6:  38%|███▊      | 82/217 [00:13<00:16,  8.16it/s, acc=0.5, loss=0.707]  "
     ]
    },
    {
     "name": "stdout",
     "output_type": "stream",
     "text": [
      "Got 16 / 32 with accuracy 50.00\n",
      "Got 16 / 32 with accuracy 50.00\n"
     ]
    },
    {
     "name": "stderr",
     "output_type": "stream",
     "text": [
      "Epoch=1/6:  38%|███▊      | 82/217 [00:13<00:16,  8.16it/s, acc=0.406, loss=0.705]"
     ]
    },
    {
     "name": "stdout",
     "output_type": "stream",
     "text": [
      "Got 13 / 32 with accuracy 40.62\n",
      "Got 13 / 32 with accuracy 40.62\n"
     ]
    },
    {
     "name": "stderr",
     "output_type": "stream",
     "text": [
      "Epoch=1/6:  38%|███▊      | 82/217 [00:13<00:16,  8.16it/s, acc=0.469, loss=0.721]"
     ]
    },
    {
     "name": "stdout",
     "output_type": "stream",
     "text": [
      "Got 15 / 32 with accuracy 46.88\n",
      "Got 15 / 32 with accuracy 46.88\n"
     ]
    },
    {
     "name": "stderr",
     "output_type": "stream",
     "text": [
      "Epoch=1/6:  38%|███▊      | 82/217 [00:13<00:16,  8.16it/s, acc=0.562, loss=0.676]"
     ]
    },
    {
     "name": "stdout",
     "output_type": "stream",
     "text": [
      "Got 16 / 32 with accuracy 50.00\n",
      "Got 18 / 32 with accuracy 56.25\n"
     ]
    },
    {
     "name": "stderr",
     "output_type": "stream",
     "text": [
      "Epoch=1/6:  38%|███▊      | 82/217 [00:14<00:16,  8.16it/s, acc=0.594, loss=0.664]"
     ]
    },
    {
     "name": "stdout",
     "output_type": "stream",
     "text": [
      "Got 17 / 32 with accuracy 53.12\n",
      "Got 19 / 32 with accuracy 59.38\n"
     ]
    },
    {
     "name": "stderr",
     "output_type": "stream",
     "text": [
      "Epoch=1/6:  38%|███▊      | 82/217 [00:14<00:16,  8.16it/s, acc=0.656, loss=0.67] "
     ]
    },
    {
     "name": "stdout",
     "output_type": "stream",
     "text": [
      "Got 14 / 32 with accuracy 43.75\n",
      "Got 21 / 32 with accuracy 65.62\n"
     ]
    },
    {
     "name": "stderr",
     "output_type": "stream",
     "text": [
      "Epoch=1/6:  38%|███▊      | 82/217 [00:14<00:16,  8.16it/s, acc=0.469, loss=0.701]"
     ]
    },
    {
     "name": "stdout",
     "output_type": "stream",
     "text": [
      "Got 15 / 32 with accuracy 46.88\n",
      "Got 15 / 32 with accuracy 46.88\n"
     ]
    },
    {
     "name": "stderr",
     "output_type": "stream",
     "text": [
      "Epoch=1/6:  38%|███▊      | 82/217 [00:14<00:16,  8.16it/s, acc=0.344, loss=0.727]"
     ]
    },
    {
     "name": "stdout",
     "output_type": "stream",
     "text": [
      "Got 15 / 32 with accuracy 46.88\n",
      "Got 11 / 32 with accuracy 34.38\n"
     ]
    },
    {
     "name": "stderr",
     "output_type": "stream",
     "text": [
      "Epoch=1/6:  38%|███▊      | 82/217 [00:15<00:16,  8.16it/s, acc=0.594, loss=0.675]"
     ]
    },
    {
     "name": "stdout",
     "output_type": "stream",
     "text": [
      "Got 16 / 32 with accuracy 50.00\n",
      "Got 19 / 32 with accuracy 59.38\n"
     ]
    },
    {
     "name": "stderr",
     "output_type": "stream",
     "text": [
      "Epoch=1/6:  38%|███▊      | 82/217 [00:15<00:16,  8.16it/s, acc=0.531, loss=0.687]"
     ]
    },
    {
     "name": "stdout",
     "output_type": "stream",
     "text": [
      "Got 15 / 32 with accuracy 46.88\n",
      "Got 17 / 32 with accuracy 53.12\n"
     ]
    },
    {
     "name": "stderr",
     "output_type": "stream",
     "text": [
      "Epoch=1/6:  38%|███▊      | 82/217 [00:15<00:16,  8.16it/s, acc=0.5, loss=0.717]  "
     ]
    },
    {
     "name": "stdout",
     "output_type": "stream",
     "text": [
      "Got 21 / 32 with accuracy 65.62\n",
      "Got 16 / 32 with accuracy 50.00\n"
     ]
    },
    {
     "name": "stderr",
     "output_type": "stream",
     "text": [
      "Epoch=1/6:  38%|███▊      | 82/217 [00:15<00:16,  8.16it/s, acc=0.438, loss=0.721]"
     ]
    },
    {
     "name": "stdout",
     "output_type": "stream",
     "text": [
      "Got 17 / 32 with accuracy 53.12\n",
      "Got 14 / 32 with accuracy 43.75\n"
     ]
    },
    {
     "name": "stderr",
     "output_type": "stream",
     "text": [
      "Epoch=1/6:  38%|███▊      | 82/217 [00:16<00:16,  8.16it/s, acc=0.625, loss=0.707]"
     ]
    },
    {
     "name": "stdout",
     "output_type": "stream",
     "text": [
      "Got 16 / 32 with accuracy 50.00\n",
      "Got 20 / 32 with accuracy 62.50\n"
     ]
    },
    {
     "name": "stderr",
     "output_type": "stream",
     "text": [
      "Epoch=1/6:  38%|███▊      | 82/217 [00:16<00:16,  8.16it/s, acc=0.531, loss=0.699]"
     ]
    },
    {
     "name": "stdout",
     "output_type": "stream",
     "text": [
      "Got 12 / 32 with accuracy 37.50\n",
      "Got 17 / 32 with accuracy 53.12\n"
     ]
    },
    {
     "name": "stderr",
     "output_type": "stream",
     "text": [
      "Epoch=1/6:  38%|███▊      | 82/217 [00:16<00:16,  8.16it/s, acc=0.594, loss=0.675]"
     ]
    },
    {
     "name": "stdout",
     "output_type": "stream",
     "text": [
      "Got 16 / 32 with accuracy 50.00\n",
      "Got 19 / 32 with accuracy 59.38\n"
     ]
    },
    {
     "name": "stderr",
     "output_type": "stream",
     "text": [
      "Epoch=1/6:  38%|███▊      | 82/217 [00:16<00:16,  8.16it/s, acc=0.5, loss=0.679]  "
     ]
    },
    {
     "name": "stdout",
     "output_type": "stream",
     "text": [
      "Got 19 / 32 with accuracy 59.38\n",
      "Got 16 / 32 with accuracy 50.00\n"
     ]
    },
    {
     "name": "stderr",
     "output_type": "stream",
     "text": [
      "Epoch=1/6:  38%|███▊      | 82/217 [00:17<00:16,  8.16it/s, acc=0.469, loss=0.689]"
     ]
    },
    {
     "name": "stdout",
     "output_type": "stream",
     "text": [
      "Got 15 / 32 with accuracy 46.88\n",
      "Got 15 / 32 with accuracy 46.88\n"
     ]
    },
    {
     "name": "stderr",
     "output_type": "stream",
     "text": [
      "Epoch=1/6:  38%|███▊      | 82/217 [00:17<00:16,  8.16it/s, acc=0.656, loss=0.673]"
     ]
    },
    {
     "name": "stdout",
     "output_type": "stream",
     "text": [
      "Got 16 / 32 with accuracy 50.00\n",
      "Got 21 / 32 with accuracy 65.62\n"
     ]
    },
    {
     "name": "stderr",
     "output_type": "stream",
     "text": [
      "Epoch=1/6:  38%|███▊      | 82/217 [00:17<00:16,  8.16it/s, acc=0.5, loss=0.693]  "
     ]
    },
    {
     "name": "stdout",
     "output_type": "stream",
     "text": [
      "Got 11 / 32 with accuracy 34.38\n",
      "Got 16 / 32 with accuracy 50.00\n"
     ]
    },
    {
     "name": "stderr",
     "output_type": "stream",
     "text": [
      "Epoch=1/6:  38%|███▊      | 82/217 [00:17<00:16,  8.16it/s, acc=0.75, loss=0.661] "
     ]
    },
    {
     "name": "stdout",
     "output_type": "stream",
     "text": [
      "Got 12 / 32 with accuracy 37.50\n",
      "Got 24 / 32 with accuracy 75.00\n"
     ]
    },
    {
     "name": "stderr",
     "output_type": "stream",
     "text": [
      "Epoch=1/6:  38%|███▊      | 82/217 [00:18<00:16,  8.16it/s, acc=0.5, loss=0.698] "
     ]
    },
    {
     "name": "stdout",
     "output_type": "stream",
     "text": [
      "Got 16 / 32 with accuracy 50.00\n",
      "Got 16 / 32 with accuracy 50.00\n"
     ]
    },
    {
     "name": "stderr",
     "output_type": "stream",
     "text": [
      "Epoch=1/6:  38%|███▊      | 82/217 [00:18<00:16,  8.16it/s, acc=0.5, loss=0.696]  "
     ]
    },
    {
     "name": "stdout",
     "output_type": "stream",
     "text": [
      "Got 14 / 32 with accuracy 43.75\n",
      "Got 16 / 32 with accuracy 50.00\n"
     ]
    },
    {
     "name": "stderr",
     "output_type": "stream",
     "text": [
      "Epoch=1/6:  38%|███▊      | 82/217 [00:18<00:16,  8.16it/s, acc=0.406, loss=0.699]"
     ]
    },
    {
     "name": "stdout",
     "output_type": "stream",
     "text": [
      "Got 19 / 32 with accuracy 59.38\n",
      "Got 13 / 32 with accuracy 40.62\n"
     ]
    },
    {
     "name": "stderr",
     "output_type": "stream",
     "text": [
      "Epoch=1/6:  38%|███▊      | 82/217 [00:18<00:16,  8.16it/s, acc=0.5, loss=0.693]  "
     ]
    },
    {
     "name": "stdout",
     "output_type": "stream",
     "text": [
      "Got 18 / 32 with accuracy 56.25\n",
      "Got 16 / 32 with accuracy 50.00\n"
     ]
    },
    {
     "name": "stderr",
     "output_type": "stream",
     "text": [
      "Epoch=1/6:  38%|███▊      | 82/217 [00:19<00:16,  8.16it/s, acc=0.625, loss=0.681]"
     ]
    },
    {
     "name": "stdout",
     "output_type": "stream",
     "text": [
      "Got 21 / 32 with accuracy 65.62\n",
      "Got 20 / 32 with accuracy 62.50\n"
     ]
    },
    {
     "name": "stderr",
     "output_type": "stream",
     "text": [
      "Epoch=1/6:  38%|███▊      | 82/217 [00:19<00:16,  8.16it/s, acc=0.625, loss=0.703]"
     ]
    },
    {
     "name": "stdout",
     "output_type": "stream",
     "text": [
      "Got 20 / 32 with accuracy 62.50\n",
      "Got 20 / 32 with accuracy 62.50\n"
     ]
    },
    {
     "name": "stderr",
     "output_type": "stream",
     "text": [
      "Epoch=1/6:  38%|███▊      | 82/217 [00:19<00:16,  8.16it/s, acc=0.562, loss=0.679]"
     ]
    },
    {
     "name": "stdout",
     "output_type": "stream",
     "text": [
      "Got 19 / 32 with accuracy 59.38\n",
      "Got 18 / 32 with accuracy 56.25\n"
     ]
    },
    {
     "name": "stderr",
     "output_type": "stream",
     "text": [
      "Epoch=1/6:  38%|███▊      | 82/217 [00:19<00:16,  8.16it/s, acc=0.438, loss=0.705]"
     ]
    },
    {
     "name": "stdout",
     "output_type": "stream",
     "text": [
      "Got 20 / 32 with accuracy 62.50\n",
      "Got 14 / 32 with accuracy 43.75\n"
     ]
    },
    {
     "name": "stderr",
     "output_type": "stream",
     "text": [
      "Epoch=1/6:  76%|███████▌  | 164/217 [00:20<00:06,  8.15it/s, acc=0.625, loss=0.677]"
     ]
    },
    {
     "name": "stdout",
     "output_type": "stream",
     "text": [
      "Got 19 / 32 with accuracy 59.38\n",
      "Got 20 / 32 with accuracy 62.50\n"
     ]
    },
    {
     "name": "stderr",
     "output_type": "stream",
     "text": [
      "Epoch=1/6:  76%|███████▌  | 164/217 [00:20<00:06,  8.15it/s, acc=0.5, loss=0.71]   "
     ]
    },
    {
     "name": "stdout",
     "output_type": "stream",
     "text": [
      "Got 22 / 32 with accuracy 68.75\n",
      "Got 16 / 32 with accuracy 50.00\n"
     ]
    },
    {
     "name": "stderr",
     "output_type": "stream",
     "text": [
      "Epoch=1/6:  76%|███████▌  | 164/217 [00:20<00:06,  8.15it/s, acc=0.625, loss=0.702]"
     ]
    },
    {
     "name": "stdout",
     "output_type": "stream",
     "text": [
      "Got 14 / 32 with accuracy 43.75\n",
      "Got 20 / 32 with accuracy 62.50\n"
     ]
    },
    {
     "name": "stderr",
     "output_type": "stream",
     "text": [
      "Epoch=1/6:  76%|███████▌  | 164/217 [00:20<00:06,  8.15it/s, acc=0.5, loss=0.703]  "
     ]
    },
    {
     "name": "stdout",
     "output_type": "stream",
     "text": [
      "Got 12 / 32 with accuracy 37.50\n",
      "Got 16 / 32 with accuracy 50.00\n"
     ]
    },
    {
     "name": "stderr",
     "output_type": "stream",
     "text": [
      "Epoch=1/6:  76%|███████▌  | 164/217 [00:21<00:06,  8.15it/s, acc=0.344, loss=0.7]  "
     ]
    },
    {
     "name": "stdout",
     "output_type": "stream",
     "text": [
      "Got 14 / 32 with accuracy 43.75\n",
      "Got 11 / 32 with accuracy 34.38\n"
     ]
    },
    {
     "name": "stderr",
     "output_type": "stream",
     "text": [
      "Epoch=1/6:  76%|███████▌  | 164/217 [00:21<00:06,  8.15it/s, acc=0.5, loss=0.7]    "
     ]
    },
    {
     "name": "stdout",
     "output_type": "stream",
     "text": [
      "Got 20 / 32 with accuracy 62.50\n",
      "Got 16 / 32 with accuracy 50.00\n"
     ]
    },
    {
     "name": "stderr",
     "output_type": "stream",
     "text": [
      "Epoch=1/6:  76%|███████▌  | 164/217 [00:21<00:06,  8.15it/s, acc=0.5, loss=0.667]  "
     ]
    },
    {
     "name": "stdout",
     "output_type": "stream",
     "text": [
      "Got 14 / 32 with accuracy 43.75\n",
      "Got 16 / 32 with accuracy 50.00\n"
     ]
    },
    {
     "name": "stderr",
     "output_type": "stream",
     "text": [
      "Epoch=1/6:  76%|███████▌  | 164/217 [00:21<00:06,  8.15it/s, acc=0.562, loss=0.704]"
     ]
    },
    {
     "name": "stdout",
     "output_type": "stream",
     "text": [
      "Got 23 / 32 with accuracy 71.88\n",
      "Got 18 / 32 with accuracy 56.25\n"
     ]
    },
    {
     "name": "stderr",
     "output_type": "stream",
     "text": [
      "Epoch=1/6:  76%|███████▌  | 164/217 [00:22<00:06,  8.15it/s, acc=0.5, loss=0.704]  "
     ]
    },
    {
     "name": "stdout",
     "output_type": "stream",
     "text": [
      "Got 14 / 32 with accuracy 43.75\n",
      "Got 16 / 32 with accuracy 50.00\n"
     ]
    },
    {
     "name": "stderr",
     "output_type": "stream",
     "text": [
      "Epoch=1/6:  76%|███████▌  | 164/217 [00:22<00:06,  8.15it/s, acc=0.438, loss=0.705]"
     ]
    },
    {
     "name": "stdout",
     "output_type": "stream",
     "text": [
      "Got 21 / 32 with accuracy 65.62\n",
      "Got 14 / 32 with accuracy 43.75\n"
     ]
    },
    {
     "name": "stderr",
     "output_type": "stream",
     "text": [
      "Epoch=1/6:  76%|███████▌  | 164/217 [00:22<00:06,  8.15it/s, acc=0.656, loss=0.677]"
     ]
    },
    {
     "name": "stdout",
     "output_type": "stream",
     "text": [
      "Got 15 / 32 with accuracy 46.88\n",
      "Got 21 / 32 with accuracy 65.62\n"
     ]
    },
    {
     "name": "stderr",
     "output_type": "stream",
     "text": [
      "Epoch=1/6:  76%|███████▌  | 164/217 [00:22<00:06,  8.15it/s, acc=0.469, loss=0.697]"
     ]
    },
    {
     "name": "stdout",
     "output_type": "stream",
     "text": [
      "Got 15 / 32 with accuracy 46.88\n",
      "Got 15 / 32 with accuracy 46.88\n"
     ]
    },
    {
     "name": "stderr",
     "output_type": "stream",
     "text": [
      "Epoch=1/6:  76%|███████▌  | 164/217 [00:23<00:06,  8.15it/s, acc=0.469, loss=0.692]"
     ]
    },
    {
     "name": "stdout",
     "output_type": "stream",
     "text": [
      "Got 13 / 32 with accuracy 40.62\n",
      "Got 15 / 32 with accuracy 46.88\n"
     ]
    },
    {
     "name": "stderr",
     "output_type": "stream",
     "text": [
      "Epoch=1/6:  76%|███████▌  | 164/217 [00:23<00:06,  8.15it/s, acc=0.5, loss=0.679]  "
     ]
    },
    {
     "name": "stdout",
     "output_type": "stream",
     "text": [
      "Got 18 / 32 with accuracy 56.25\n",
      "Got 16 / 32 with accuracy 50.00\n"
     ]
    },
    {
     "name": "stderr",
     "output_type": "stream",
     "text": [
      "Epoch=1/6:  76%|███████▌  | 164/217 [00:23<00:06,  8.15it/s, acc=0.562, loss=0.697]"
     ]
    },
    {
     "name": "stdout",
     "output_type": "stream",
     "text": [
      "Got 17 / 32 with accuracy 53.12\n",
      "Got 18 / 32 with accuracy 56.25\n"
     ]
    },
    {
     "name": "stderr",
     "output_type": "stream",
     "text": [
      "Epoch=1/6:  76%|███████▌  | 164/217 [00:23<00:06,  8.15it/s, acc=0.438, loss=0.711]"
     ]
    },
    {
     "name": "stdout",
     "output_type": "stream",
     "text": [
      "Got 20 / 32 with accuracy 62.50\n",
      "Got 14 / 32 with accuracy 43.75\n"
     ]
    },
    {
     "name": "stderr",
     "output_type": "stream",
     "text": [
      "Epoch=1/6:  76%|███████▌  | 164/217 [00:24<00:06,  8.15it/s, acc=0.469, loss=0.685]"
     ]
    },
    {
     "name": "stdout",
     "output_type": "stream",
     "text": [
      "Got 18 / 32 with accuracy 56.25\n",
      "Got 15 / 32 with accuracy 46.88\n"
     ]
    },
    {
     "name": "stderr",
     "output_type": "stream",
     "text": [
      "Epoch=1/6:  76%|███████▌  | 164/217 [00:24<00:06,  8.15it/s, acc=0.531, loss=0.699]"
     ]
    },
    {
     "name": "stdout",
     "output_type": "stream",
     "text": [
      "Got 16 / 32 with accuracy 50.00\n",
      "Got 17 / 32 with accuracy 53.12\n"
     ]
    },
    {
     "name": "stderr",
     "output_type": "stream",
     "text": [
      "Epoch=1/6:  76%|███████▌  | 164/217 [00:24<00:06,  8.15it/s, acc=0.469, loss=0.704]"
     ]
    },
    {
     "name": "stdout",
     "output_type": "stream",
     "text": [
      "Got 17 / 32 with accuracy 53.12\n",
      "Got 15 / 32 with accuracy 46.88\n"
     ]
    },
    {
     "name": "stderr",
     "output_type": "stream",
     "text": [
      "Epoch=1/6:  76%|███████▌  | 164/217 [00:24<00:06,  8.15it/s, acc=0.5, loss=0.686]  "
     ]
    },
    {
     "name": "stdout",
     "output_type": "stream",
     "text": [
      "Got 11 / 32 with accuracy 34.38\n",
      "Got 16 / 32 with accuracy 50.00\n"
     ]
    },
    {
     "name": "stderr",
     "output_type": "stream",
     "text": [
      "Epoch=1/6:  76%|███████▌  | 164/217 [00:25<00:06,  8.15it/s, acc=0.469, loss=0.691]"
     ]
    },
    {
     "name": "stdout",
     "output_type": "stream",
     "text": [
      "Got 19 / 32 with accuracy 59.38\n",
      "Got 15 / 32 with accuracy 46.88\n"
     ]
    },
    {
     "name": "stderr",
     "output_type": "stream",
     "text": [
      "Epoch=1/6:  76%|███████▌  | 164/217 [00:25<00:06,  8.15it/s, acc=0.531, loss=0.683]"
     ]
    },
    {
     "name": "stdout",
     "output_type": "stream",
     "text": [
      "Got 19 / 32 with accuracy 59.38\n",
      "Got 17 / 32 with accuracy 53.12\n"
     ]
    },
    {
     "name": "stderr",
     "output_type": "stream",
     "text": [
      "Epoch=1/6:  76%|███████▌  | 164/217 [00:25<00:06,  8.15it/s, acc=0.625, loss=0.683]"
     ]
    },
    {
     "name": "stdout",
     "output_type": "stream",
     "text": [
      "Got 19 / 32 with accuracy 59.38\n",
      "Got 20 / 32 with accuracy 62.50\n"
     ]
    },
    {
     "name": "stderr",
     "output_type": "stream",
     "text": [
      "Epoch=1/6:  76%|███████▌  | 164/217 [00:25<00:06,  8.15it/s, acc=0.625, loss=0.675]"
     ]
    },
    {
     "name": "stdout",
     "output_type": "stream",
     "text": [
      "Got 11 / 32 with accuracy 34.38\n",
      "Got 20 / 32 with accuracy 62.50\n"
     ]
    },
    {
     "name": "stderr",
     "output_type": "stream",
     "text": [
      "Epoch=1/6:  76%|███████▌  | 164/217 [00:26<00:06,  8.15it/s, acc=0.406, loss=0.699]"
     ]
    },
    {
     "name": "stdout",
     "output_type": "stream",
     "text": [
      "Got 17 / 32 with accuracy 53.12\n",
      "Got 13 / 32 with accuracy 40.62\n"
     ]
    },
    {
     "name": "stderr",
     "output_type": "stream",
     "text": [
      "Epoch=1/6:  76%|███████▌  | 164/217 [00:26<00:06,  8.15it/s, acc=0.562, loss=0.703]"
     ]
    },
    {
     "name": "stdout",
     "output_type": "stream",
     "text": [
      "Got 14 / 32 with accuracy 43.75\n",
      "Got 18 / 32 with accuracy 56.25\n"
     ]
    },
    {
     "name": "stderr",
     "output_type": "stream",
     "text": [
      "                                                                                   \r"
     ]
    },
    {
     "name": "stdout",
     "output_type": "stream",
     "text": [
      "Got 17 / 32 with accuracy 53.12\n",
      "Got 20 / 32 with accuracy 62.50\n",
      "Got 3 / 8 with accuracy 37.50\n"
     ]
    },
    {
     "name": "stderr",
     "output_type": "stream",
     "text": [
      "Epoch=2/6:   0%|          | 0/217 [00:00<?, ?it/s, acc=0.75, loss=0.677] "
     ]
    },
    {
     "name": "stdout",
     "output_type": "stream",
     "text": [
      "Got 15 / 32 with accuracy 46.88\n",
      "Got 24 / 32 with accuracy 75.00\n"
     ]
    },
    {
     "name": "stderr",
     "output_type": "stream",
     "text": [
      "Epoch=2/6:   0%|          | 0/217 [00:00<?, ?it/s, acc=0.562, loss=0.683]"
     ]
    },
    {
     "name": "stdout",
     "output_type": "stream",
     "text": [
      "Got 18 / 32 with accuracy 56.25\n",
      "Got 18 / 32 with accuracy 56.25\n"
     ]
    },
    {
     "name": "stderr",
     "output_type": "stream",
     "text": [
      "Epoch=2/6:   0%|          | 0/217 [00:00<?, ?it/s, acc=0.531, loss=0.691]"
     ]
    },
    {
     "name": "stdout",
     "output_type": "stream",
     "text": [
      "Got 16 / 32 with accuracy 50.00\n",
      "Got 17 / 32 with accuracy 53.12\n"
     ]
    },
    {
     "name": "stderr",
     "output_type": "stream",
     "text": [
      "Epoch=2/6:   0%|          | 0/217 [00:00<?, ?it/s, acc=0.594, loss=0.67] "
     ]
    },
    {
     "name": "stdout",
     "output_type": "stream",
     "text": [
      "Got 18 / 32 with accuracy 56.25\n",
      "Got 19 / 32 with accuracy 59.38\n"
     ]
    },
    {
     "name": "stderr",
     "output_type": "stream",
     "text": [
      "Epoch=2/6:   0%|          | 0/217 [00:01<?, ?it/s, acc=0.438, loss=0.701]"
     ]
    },
    {
     "name": "stdout",
     "output_type": "stream",
     "text": [
      "Got 20 / 32 with accuracy 62.50\n",
      "Got 14 / 32 with accuracy 43.75\n"
     ]
    },
    {
     "name": "stderr",
     "output_type": "stream",
     "text": [
      "Epoch=2/6:   0%|          | 0/217 [00:01<?, ?it/s, acc=0.375, loss=0.703]"
     ]
    },
    {
     "name": "stdout",
     "output_type": "stream",
     "text": [
      "Got 16 / 32 with accuracy 50.00\n",
      "Got 12 / 32 with accuracy 37.50\n"
     ]
    },
    {
     "name": "stderr",
     "output_type": "stream",
     "text": [
      "Epoch=2/6:   0%|          | 0/217 [00:01<?, ?it/s, acc=0.469, loss=0.694]"
     ]
    },
    {
     "name": "stdout",
     "output_type": "stream",
     "text": [
      "Got 19 / 32 with accuracy 59.38\n",
      "Got 15 / 32 with accuracy 46.88\n"
     ]
    },
    {
     "name": "stderr",
     "output_type": "stream",
     "text": [
      "Epoch=2/6:   0%|          | 0/217 [00:01<?, ?it/s, acc=0.562, loss=0.7]  "
     ]
    },
    {
     "name": "stdout",
     "output_type": "stream",
     "text": [
      "Got 13 / 32 with accuracy 40.62\n",
      "Got 18 / 32 with accuracy 56.25\n"
     ]
    },
    {
     "name": "stderr",
     "output_type": "stream",
     "text": [
      "Epoch=2/6:   0%|          | 0/217 [00:02<?, ?it/s, acc=0.438, loss=0.687]"
     ]
    },
    {
     "name": "stdout",
     "output_type": "stream",
     "text": [
      "Got 15 / 32 with accuracy 46.88\n",
      "Got 14 / 32 with accuracy 43.75\n"
     ]
    },
    {
     "name": "stderr",
     "output_type": "stream",
     "text": [
      "Epoch=2/6:   0%|          | 0/217 [00:02<?, ?it/s, acc=0.625, loss=0.683]"
     ]
    },
    {
     "name": "stdout",
     "output_type": "stream",
     "text": [
      "Got 16 / 32 with accuracy 50.00\n",
      "Got 20 / 32 with accuracy 62.50\n"
     ]
    },
    {
     "name": "stderr",
     "output_type": "stream",
     "text": [
      "Epoch=2/6:   0%|          | 0/217 [00:02<?, ?it/s, acc=0.594, loss=0.671]"
     ]
    },
    {
     "name": "stdout",
     "output_type": "stream",
     "text": [
      "Got 15 / 32 with accuracy 46.88\n",
      "Got 19 / 32 with accuracy 59.38\n"
     ]
    },
    {
     "name": "stderr",
     "output_type": "stream",
     "text": [
      "Epoch=2/6:   0%|          | 0/217 [00:02<?, ?it/s, acc=0.531, loss=0.68] "
     ]
    },
    {
     "name": "stdout",
     "output_type": "stream",
     "text": [
      "Got 20 / 32 with accuracy 62.50\n",
      "Got 17 / 32 with accuracy 53.12\n"
     ]
    },
    {
     "name": "stderr",
     "output_type": "stream",
     "text": [
      "Epoch=2/6:   0%|          | 0/217 [00:03<?, ?it/s, acc=0.375, loss=0.715]"
     ]
    },
    {
     "name": "stdout",
     "output_type": "stream",
     "text": [
      "Got 18 / 32 with accuracy 56.25\n",
      "Got 12 / 32 with accuracy 37.50\n"
     ]
    },
    {
     "name": "stderr",
     "output_type": "stream",
     "text": [
      "Epoch=2/6:   0%|          | 0/217 [00:03<?, ?it/s, acc=0.375, loss=0.71] "
     ]
    },
    {
     "name": "stdout",
     "output_type": "stream",
     "text": [
      "Got 18 / 32 with accuracy 56.25\n",
      "Got 12 / 32 with accuracy 37.50\n"
     ]
    },
    {
     "name": "stderr",
     "output_type": "stream",
     "text": [
      "Epoch=2/6:   0%|          | 0/217 [00:03<?, ?it/s, acc=0.406, loss=0.696]"
     ]
    },
    {
     "name": "stdout",
     "output_type": "stream",
     "text": [
      "Got 18 / 32 with accuracy 56.25\n",
      "Got 13 / 32 with accuracy 40.62\n"
     ]
    },
    {
     "name": "stderr",
     "output_type": "stream",
     "text": [
      "Epoch=2/6:   0%|          | 0/217 [00:03<?, ?it/s, acc=0.469, loss=0.704]"
     ]
    },
    {
     "name": "stdout",
     "output_type": "stream",
     "text": [
      "Got 18 / 32 with accuracy 56.25\n",
      "Got 15 / 32 with accuracy 46.88\n"
     ]
    },
    {
     "name": "stderr",
     "output_type": "stream",
     "text": [
      "Epoch=2/6:   0%|          | 0/217 [00:04<?, ?it/s, acc=0.531, loss=0.7]  "
     ]
    },
    {
     "name": "stdout",
     "output_type": "stream",
     "text": [
      "Got 17 / 32 with accuracy 53.12\n",
      "Got 17 / 32 with accuracy 53.12\n"
     ]
    },
    {
     "name": "stderr",
     "output_type": "stream",
     "text": [
      "Epoch=2/6:   0%|          | 0/217 [00:04<?, ?it/s, acc=0.5, loss=0.697]  "
     ]
    },
    {
     "name": "stdout",
     "output_type": "stream",
     "text": [
      "Got 18 / 32 with accuracy 56.25\n",
      "Got 16 / 32 with accuracy 50.00\n"
     ]
    },
    {
     "name": "stderr",
     "output_type": "stream",
     "text": [
      "Epoch=2/6:   0%|          | 0/217 [00:04<?, ?it/s, acc=0.438, loss=0.693]"
     ]
    },
    {
     "name": "stdout",
     "output_type": "stream",
     "text": [
      "Got 14 / 32 with accuracy 43.75\n",
      "Got 14 / 32 with accuracy 43.75\n"
     ]
    },
    {
     "name": "stderr",
     "output_type": "stream",
     "text": [
      "Epoch=2/6:   0%|          | 0/217 [00:04<?, ?it/s, acc=0.625, loss=0.687]"
     ]
    },
    {
     "name": "stdout",
     "output_type": "stream",
     "text": [
      "Got 18 / 32 with accuracy 56.25\n",
      "Got 20 / 32 with accuracy 62.50\n"
     ]
    },
    {
     "name": "stderr",
     "output_type": "stream",
     "text": [
      "Epoch=2/6:   0%|          | 0/217 [00:05<?, ?it/s, acc=0.5, loss=0.69]   "
     ]
    },
    {
     "name": "stdout",
     "output_type": "stream",
     "text": [
      "Got 15 / 32 with accuracy 46.88\n",
      "Got 16 / 32 with accuracy 50.00\n"
     ]
    },
    {
     "name": "stderr",
     "output_type": "stream",
     "text": [
      "Epoch=2/6:   0%|          | 0/217 [00:05<?, ?it/s, acc=0.531, loss=0.665]"
     ]
    },
    {
     "name": "stdout",
     "output_type": "stream",
     "text": [
      "Got 18 / 32 with accuracy 56.25\n",
      "Got 17 / 32 with accuracy 53.12\n"
     ]
    },
    {
     "name": "stderr",
     "output_type": "stream",
     "text": [
      "Epoch=2/6:   0%|          | 0/217 [00:05<?, ?it/s, acc=0.531, loss=0.685]"
     ]
    },
    {
     "name": "stdout",
     "output_type": "stream",
     "text": [
      "Got 18 / 32 with accuracy 56.25\n",
      "Got 17 / 32 with accuracy 53.12\n"
     ]
    },
    {
     "name": "stderr",
     "output_type": "stream",
     "text": [
      "Epoch=2/6:   0%|          | 0/217 [00:05<?, ?it/s, acc=0.469, loss=0.704]"
     ]
    },
    {
     "name": "stdout",
     "output_type": "stream",
     "text": [
      "Got 18 / 32 with accuracy 56.25\n",
      "Got 15 / 32 with accuracy 46.88\n"
     ]
    },
    {
     "name": "stderr",
     "output_type": "stream",
     "text": [
      "Epoch=2/6:   0%|          | 0/217 [00:06<?, ?it/s, acc=0.531, loss=0.683]"
     ]
    },
    {
     "name": "stdout",
     "output_type": "stream",
     "text": [
      "Got 16 / 32 with accuracy 50.00\n",
      "Got 17 / 32 with accuracy 53.12\n"
     ]
    },
    {
     "name": "stderr",
     "output_type": "stream",
     "text": [
      "Epoch=2/6:   0%|          | 0/217 [00:06<?, ?it/s, acc=0.469, loss=0.722]"
     ]
    },
    {
     "name": "stdout",
     "output_type": "stream",
     "text": [
      "Got 18 / 32 with accuracy 56.25\n",
      "Got 15 / 32 with accuracy 46.88\n"
     ]
    },
    {
     "name": "stderr",
     "output_type": "stream",
     "text": [
      "Epoch=2/6:   0%|          | 0/217 [00:06<?, ?it/s, acc=0.5, loss=0.717]  "
     ]
    },
    {
     "name": "stdout",
     "output_type": "stream",
     "text": [
      "Got 19 / 32 with accuracy 59.38\n",
      "Got 16 / 32 with accuracy 50.00\n"
     ]
    },
    {
     "name": "stderr",
     "output_type": "stream",
     "text": [
      "Epoch=2/6:   0%|          | 0/217 [00:06<?, ?it/s, acc=0.531, loss=0.687]"
     ]
    },
    {
     "name": "stdout",
     "output_type": "stream",
     "text": [
      "Got 17 / 32 with accuracy 53.12\n",
      "Got 17 / 32 with accuracy 53.12\n"
     ]
    },
    {
     "name": "stderr",
     "output_type": "stream",
     "text": [
      "Epoch=2/6:   0%|          | 0/217 [00:07<?, ?it/s, acc=0.469, loss=0.717]"
     ]
    },
    {
     "name": "stdout",
     "output_type": "stream",
     "text": [
      "Got 18 / 32 with accuracy 56.25\n",
      "Got 15 / 32 with accuracy 46.88\n"
     ]
    },
    {
     "name": "stderr",
     "output_type": "stream",
     "text": [
      "Epoch=2/6:   0%|          | 0/217 [00:07<?, ?it/s, acc=0.531, loss=0.688]"
     ]
    },
    {
     "name": "stdout",
     "output_type": "stream",
     "text": [
      "Got 21 / 32 with accuracy 65.62\n",
      "Got 17 / 32 with accuracy 53.12\n"
     ]
    },
    {
     "name": "stderr",
     "output_type": "stream",
     "text": [
      "Epoch=2/6:   0%|          | 0/217 [00:07<?, ?it/s, acc=0.562, loss=0.674]"
     ]
    },
    {
     "name": "stdout",
     "output_type": "stream",
     "text": [
      "Got 12 / 32 with accuracy 37.50\n",
      "Got 18 / 32 with accuracy 56.25\n"
     ]
    },
    {
     "name": "stderr",
     "output_type": "stream",
     "text": [
      "Epoch=2/6:   0%|          | 0/217 [00:07<?, ?it/s, acc=0.562, loss=0.68] "
     ]
    },
    {
     "name": "stdout",
     "output_type": "stream",
     "text": [
      "Got 18 / 32 with accuracy 56.25\n",
      "Got 18 / 32 with accuracy 56.25\n"
     ]
    },
    {
     "name": "stderr",
     "output_type": "stream",
     "text": [
      "Epoch=2/6:   0%|          | 0/217 [00:08<?, ?it/s, acc=0.719, loss=0.653]"
     ]
    },
    {
     "name": "stdout",
     "output_type": "stream",
     "text": [
      "Got 17 / 32 with accuracy 53.12\n",
      "Got 23 / 32 with accuracy 71.88\n"
     ]
    },
    {
     "name": "stderr",
     "output_type": "stream",
     "text": [
      "Epoch=2/6:   0%|          | 0/217 [00:08<?, ?it/s, acc=0.5, loss=0.698]  "
     ]
    },
    {
     "name": "stdout",
     "output_type": "stream",
     "text": [
      "Got 14 / 32 with accuracy 43.75\n",
      "Got 16 / 32 with accuracy 50.00\n"
     ]
    },
    {
     "name": "stderr",
     "output_type": "stream",
     "text": [
      "Epoch=2/6:   0%|          | 0/217 [00:08<?, ?it/s, acc=0.594, loss=0.682]"
     ]
    },
    {
     "name": "stdout",
     "output_type": "stream",
     "text": [
      "Got 16 / 32 with accuracy 50.00\n",
      "Got 19 / 32 with accuracy 59.38\n"
     ]
    },
    {
     "name": "stderr",
     "output_type": "stream",
     "text": [
      "Epoch=2/6:   0%|          | 0/217 [00:08<?, ?it/s, acc=0.344, loss=0.703]"
     ]
    },
    {
     "name": "stdout",
     "output_type": "stream",
     "text": [
      "Got 13 / 32 with accuracy 40.62\n",
      "Got 11 / 32 with accuracy 34.38\n"
     ]
    },
    {
     "name": "stderr",
     "output_type": "stream",
     "text": [
      "Epoch=2/6:   0%|          | 0/217 [00:09<?, ?it/s, acc=0.438, loss=0.7]  "
     ]
    },
    {
     "name": "stdout",
     "output_type": "stream",
     "text": [
      "Got 18 / 32 with accuracy 56.25\n",
      "Got 14 / 32 with accuracy 43.75\n"
     ]
    },
    {
     "name": "stderr",
     "output_type": "stream",
     "text": [
      "Epoch=2/6:   0%|          | 0/217 [00:09<?, ?it/s, acc=0.594, loss=0.674]"
     ]
    },
    {
     "name": "stdout",
     "output_type": "stream",
     "text": [
      "Got 11 / 32 with accuracy 34.38\n",
      "Got 19 / 32 with accuracy 59.38\n"
     ]
    },
    {
     "name": "stderr",
     "output_type": "stream",
     "text": [
      "Epoch=2/6:   0%|          | 0/217 [00:09<?, ?it/s, acc=0.469, loss=0.708]"
     ]
    },
    {
     "name": "stdout",
     "output_type": "stream",
     "text": [
      "Got 11 / 32 with accuracy 34.38\n",
      "Got 15 / 32 with accuracy 46.88\n"
     ]
    },
    {
     "name": "stderr",
     "output_type": "stream",
     "text": [
      "Epoch=2/6:   0%|          | 0/217 [00:09<?, ?it/s, acc=0.625, loss=0.673]"
     ]
    },
    {
     "name": "stdout",
     "output_type": "stream",
     "text": [
      "Got 20 / 32 with accuracy 62.50\n",
      "Got 20 / 32 with accuracy 62.50\n"
     ]
    },
    {
     "name": "stderr",
     "output_type": "stream",
     "text": [
      "Epoch=2/6:  37%|███▋      | 81/217 [00:10<00:16,  8.09it/s, acc=0.656, loss=0.666]"
     ]
    },
    {
     "name": "stdout",
     "output_type": "stream",
     "text": [
      "Got 18 / 32 with accuracy 56.25\n",
      "Got 21 / 32 with accuracy 65.62\n"
     ]
    },
    {
     "name": "stderr",
     "output_type": "stream",
     "text": [
      "Epoch=2/6:  37%|███▋      | 81/217 [00:10<00:16,  8.09it/s, acc=0.625, loss=0.675]"
     ]
    },
    {
     "name": "stdout",
     "output_type": "stream",
     "text": [
      "Got 16 / 32 with accuracy 50.00\n",
      "Got 20 / 32 with accuracy 62.50\n"
     ]
    },
    {
     "name": "stderr",
     "output_type": "stream",
     "text": [
      "Epoch=2/6:  37%|███▋      | 81/217 [00:10<00:16,  8.09it/s, acc=0.656, loss=0.673]"
     ]
    },
    {
     "name": "stdout",
     "output_type": "stream",
     "text": [
      "Got 16 / 32 with accuracy 50.00\n",
      "Got 21 / 32 with accuracy 65.62\n"
     ]
    },
    {
     "name": "stderr",
     "output_type": "stream",
     "text": [
      "Epoch=2/6:  37%|███▋      | 81/217 [00:10<00:16,  8.09it/s, acc=0.5, loss=0.705]  "
     ]
    },
    {
     "name": "stdout",
     "output_type": "stream",
     "text": [
      "Got 13 / 32 with accuracy 40.62\n",
      "Got 16 / 32 with accuracy 50.00\n"
     ]
    },
    {
     "name": "stderr",
     "output_type": "stream",
     "text": [
      "Epoch=2/6:  37%|███▋      | 81/217 [00:11<00:16,  8.09it/s, acc=0.562, loss=0.682]"
     ]
    },
    {
     "name": "stdout",
     "output_type": "stream",
     "text": [
      "Got 13 / 32 with accuracy 40.62\n",
      "Got 18 / 32 with accuracy 56.25\n"
     ]
    },
    {
     "name": "stderr",
     "output_type": "stream",
     "text": [
      "Epoch=2/6:  37%|███▋      | 81/217 [00:11<00:16,  8.09it/s, acc=0.469, loss=0.687]"
     ]
    },
    {
     "name": "stdout",
     "output_type": "stream",
     "text": [
      "Got 17 / 32 with accuracy 53.12\n",
      "Got 15 / 32 with accuracy 46.88\n"
     ]
    },
    {
     "name": "stderr",
     "output_type": "stream",
     "text": [
      "Epoch=2/6:  37%|███▋      | 81/217 [00:11<00:16,  8.09it/s, acc=0.5, loss=0.696]  "
     ]
    },
    {
     "name": "stdout",
     "output_type": "stream",
     "text": [
      "Got 19 / 32 with accuracy 59.38\n",
      "Got 16 / 32 with accuracy 50.00\n"
     ]
    },
    {
     "name": "stderr",
     "output_type": "stream",
     "text": [
      "Epoch=2/6:  37%|███▋      | 81/217 [00:11<00:16,  8.09it/s, acc=0.594, loss=0.673]"
     ]
    },
    {
     "name": "stdout",
     "output_type": "stream",
     "text": [
      "Got 20 / 32 with accuracy 62.50\n",
      "Got 19 / 32 with accuracy 59.38\n"
     ]
    },
    {
     "name": "stderr",
     "output_type": "stream",
     "text": [
      "Epoch=2/6:  37%|███▋      | 81/217 [00:12<00:16,  8.09it/s, acc=0.531, loss=0.68] "
     ]
    },
    {
     "name": "stdout",
     "output_type": "stream",
     "text": [
      "Got 18 / 32 with accuracy 56.25\n",
      "Got 17 / 32 with accuracy 53.12\n"
     ]
    },
    {
     "name": "stderr",
     "output_type": "stream",
     "text": [
      "Epoch=2/6:  37%|███▋      | 81/217 [00:12<00:16,  8.09it/s, acc=0.438, loss=0.695]"
     ]
    },
    {
     "name": "stdout",
     "output_type": "stream",
     "text": [
      "Got 16 / 32 with accuracy 50.00\n",
      "Got 14 / 32 with accuracy 43.75\n"
     ]
    },
    {
     "name": "stderr",
     "output_type": "stream",
     "text": [
      "Epoch=2/6:  37%|███▋      | 81/217 [00:12<00:16,  8.09it/s, acc=0.531, loss=0.684]"
     ]
    },
    {
     "name": "stdout",
     "output_type": "stream",
     "text": [
      "Got 14 / 32 with accuracy 43.75\n",
      "Got 17 / 32 with accuracy 53.12\n"
     ]
    },
    {
     "name": "stderr",
     "output_type": "stream",
     "text": [
      "Epoch=2/6:  37%|███▋      | 81/217 [00:12<00:16,  8.09it/s, acc=0.531, loss=0.688]"
     ]
    },
    {
     "name": "stdout",
     "output_type": "stream",
     "text": [
      "Got 24 / 32 with accuracy 75.00\n",
      "Got 17 / 32 with accuracy 53.12\n"
     ]
    },
    {
     "name": "stderr",
     "output_type": "stream",
     "text": [
      "Epoch=2/6:  37%|███▋      | 81/217 [00:13<00:16,  8.09it/s, acc=0.531, loss=0.668]"
     ]
    },
    {
     "name": "stdout",
     "output_type": "stream",
     "text": [
      "Got 20 / 32 with accuracy 62.50\n",
      "Got 17 / 32 with accuracy 53.12\n"
     ]
    },
    {
     "name": "stderr",
     "output_type": "stream",
     "text": [
      "Epoch=2/6:  37%|███▋      | 81/217 [00:13<00:16,  8.09it/s, acc=0.5, loss=0.715]  "
     ]
    },
    {
     "name": "stdout",
     "output_type": "stream",
     "text": [
      "Got 16 / 32 with accuracy 50.00\n",
      "Got 16 / 32 with accuracy 50.00\n"
     ]
    },
    {
     "name": "stderr",
     "output_type": "stream",
     "text": [
      "Epoch=2/6:  37%|███▋      | 81/217 [00:13<00:16,  8.09it/s, acc=0.406, loss=0.695]"
     ]
    },
    {
     "name": "stdout",
     "output_type": "stream",
     "text": [
      "Got 13 / 32 with accuracy 40.62\n",
      "Got 13 / 32 with accuracy 40.62\n"
     ]
    },
    {
     "name": "stderr",
     "output_type": "stream",
     "text": [
      "Epoch=2/6:  37%|███▋      | 81/217 [00:13<00:16,  8.09it/s, acc=0.469, loss=0.715]"
     ]
    },
    {
     "name": "stdout",
     "output_type": "stream",
     "text": [
      "Got 15 / 32 with accuracy 46.88\n",
      "Got 15 / 32 with accuracy 46.88\n"
     ]
    },
    {
     "name": "stderr",
     "output_type": "stream",
     "text": [
      "Epoch=2/6:  37%|███▋      | 81/217 [00:14<00:16,  8.09it/s, acc=0.562, loss=0.681]"
     ]
    },
    {
     "name": "stdout",
     "output_type": "stream",
     "text": [
      "Got 16 / 32 with accuracy 50.00\n",
      "Got 18 / 32 with accuracy 56.25\n"
     ]
    },
    {
     "name": "stderr",
     "output_type": "stream",
     "text": [
      "Epoch=2/6:  37%|███▋      | 81/217 [00:14<00:16,  8.09it/s, acc=0.594, loss=0.668]"
     ]
    },
    {
     "name": "stdout",
     "output_type": "stream",
     "text": [
      "Got 17 / 32 with accuracy 53.12\n",
      "Got 19 / 32 with accuracy 59.38\n"
     ]
    },
    {
     "name": "stderr",
     "output_type": "stream",
     "text": [
      "Epoch=2/6:  37%|███▋      | 81/217 [00:14<00:16,  8.09it/s, acc=0.656, loss=0.659]"
     ]
    },
    {
     "name": "stdout",
     "output_type": "stream",
     "text": [
      "Got 14 / 32 with accuracy 43.75\n",
      "Got 21 / 32 with accuracy 65.62\n"
     ]
    },
    {
     "name": "stderr",
     "output_type": "stream",
     "text": [
      "Epoch=2/6:  37%|███▋      | 81/217 [00:14<00:16,  8.09it/s, acc=0.469, loss=0.693]"
     ]
    },
    {
     "name": "stdout",
     "output_type": "stream",
     "text": [
      "Got 15 / 32 with accuracy 46.88\n",
      "Got 15 / 32 with accuracy 46.88\n"
     ]
    },
    {
     "name": "stderr",
     "output_type": "stream",
     "text": [
      "Epoch=2/6:  37%|███▋      | 81/217 [00:15<00:16,  8.09it/s, acc=0.344, loss=0.716]"
     ]
    },
    {
     "name": "stdout",
     "output_type": "stream",
     "text": [
      "Got 15 / 32 with accuracy 46.88\n",
      "Got 11 / 32 with accuracy 34.38\n"
     ]
    },
    {
     "name": "stderr",
     "output_type": "stream",
     "text": [
      "Epoch=2/6:  37%|███▋      | 81/217 [00:15<00:16,  8.09it/s, acc=0.594, loss=0.667]"
     ]
    },
    {
     "name": "stdout",
     "output_type": "stream",
     "text": [
      "Got 16 / 32 with accuracy 50.00\n",
      "Got 19 / 32 with accuracy 59.38\n"
     ]
    },
    {
     "name": "stderr",
     "output_type": "stream",
     "text": [
      "Epoch=2/6:  37%|███▋      | 81/217 [00:15<00:16,  8.09it/s, acc=0.531, loss=0.672]"
     ]
    },
    {
     "name": "stdout",
     "output_type": "stream",
     "text": [
      "Got 15 / 32 with accuracy 46.88\n",
      "Got 17 / 32 with accuracy 53.12\n"
     ]
    },
    {
     "name": "stderr",
     "output_type": "stream",
     "text": [
      "Epoch=2/6:  37%|███▋      | 81/217 [00:15<00:16,  8.09it/s, acc=0.5, loss=0.685]  "
     ]
    },
    {
     "name": "stdout",
     "output_type": "stream",
     "text": [
      "Got 21 / 32 with accuracy 65.62\n",
      "Got 16 / 32 with accuracy 50.00\n"
     ]
    },
    {
     "name": "stderr",
     "output_type": "stream",
     "text": [
      "Epoch=2/6:  37%|███▋      | 81/217 [00:16<00:16,  8.09it/s, acc=0.438, loss=0.706]"
     ]
    },
    {
     "name": "stdout",
     "output_type": "stream",
     "text": [
      "Got 17 / 32 with accuracy 53.12\n",
      "Got 14 / 32 with accuracy 43.75\n"
     ]
    },
    {
     "name": "stderr",
     "output_type": "stream",
     "text": [
      "Epoch=2/6:  37%|███▋      | 81/217 [00:16<00:16,  8.09it/s, acc=0.625, loss=0.705]"
     ]
    },
    {
     "name": "stdout",
     "output_type": "stream",
     "text": [
      "Got 16 / 32 with accuracy 50.00\n",
      "Got 20 / 32 with accuracy 62.50\n"
     ]
    },
    {
     "name": "stderr",
     "output_type": "stream",
     "text": [
      "Epoch=2/6:  37%|███▋      | 81/217 [00:16<00:16,  8.09it/s, acc=0.531, loss=0.697]"
     ]
    },
    {
     "name": "stdout",
     "output_type": "stream",
     "text": [
      "Got 12 / 32 with accuracy 37.50\n",
      "Got 17 / 32 with accuracy 53.12\n"
     ]
    },
    {
     "name": "stderr",
     "output_type": "stream",
     "text": [
      "Epoch=2/6:  37%|███▋      | 81/217 [00:16<00:16,  8.09it/s, acc=0.594, loss=0.682]"
     ]
    },
    {
     "name": "stdout",
     "output_type": "stream",
     "text": [
      "Got 16 / 32 with accuracy 50.00\n",
      "Got 19 / 32 with accuracy 59.38\n"
     ]
    },
    {
     "name": "stderr",
     "output_type": "stream",
     "text": [
      "Epoch=2/6:  37%|███▋      | 81/217 [00:17<00:16,  8.09it/s, acc=0.5, loss=0.691]  "
     ]
    },
    {
     "name": "stdout",
     "output_type": "stream",
     "text": [
      "Got 19 / 32 with accuracy 59.38\n",
      "Got 16 / 32 with accuracy 50.00\n"
     ]
    },
    {
     "name": "stderr",
     "output_type": "stream",
     "text": [
      "Epoch=2/6:  37%|███▋      | 81/217 [00:17<00:16,  8.09it/s, acc=0.469, loss=0.694]"
     ]
    },
    {
     "name": "stdout",
     "output_type": "stream",
     "text": [
      "Got 15 / 32 with accuracy 46.88\n",
      "Got 15 / 32 with accuracy 46.88\n"
     ]
    },
    {
     "name": "stderr",
     "output_type": "stream",
     "text": [
      "Epoch=2/6:  37%|███▋      | 81/217 [00:17<00:16,  8.09it/s, acc=0.656, loss=0.681]"
     ]
    },
    {
     "name": "stdout",
     "output_type": "stream",
     "text": [
      "Got 16 / 32 with accuracy 50.00\n",
      "Got 21 / 32 with accuracy 65.62\n"
     ]
    },
    {
     "name": "stderr",
     "output_type": "stream",
     "text": [
      "Epoch=2/6:  37%|███▋      | 81/217 [00:17<00:16,  8.09it/s, acc=0.5, loss=0.695]  "
     ]
    },
    {
     "name": "stdout",
     "output_type": "stream",
     "text": [
      "Got 11 / 32 with accuracy 34.38\n",
      "Got 16 / 32 with accuracy 50.00\n"
     ]
    },
    {
     "name": "stderr",
     "output_type": "stream",
     "text": [
      "Epoch=2/6:  37%|███▋      | 81/217 [00:18<00:16,  8.09it/s, acc=0.75, loss=0.656] "
     ]
    },
    {
     "name": "stdout",
     "output_type": "stream",
     "text": [
      "Got 12 / 32 with accuracy 37.50\n",
      "Got 24 / 32 with accuracy 75.00\n"
     ]
    },
    {
     "name": "stderr",
     "output_type": "stream",
     "text": [
      "Epoch=2/6:  37%|███▋      | 81/217 [00:18<00:16,  8.09it/s, acc=0.5, loss=0.703] "
     ]
    },
    {
     "name": "stdout",
     "output_type": "stream",
     "text": [
      "Got 16 / 32 with accuracy 50.00\n",
      "Got 16 / 32 with accuracy 50.00\n"
     ]
    },
    {
     "name": "stderr",
     "output_type": "stream",
     "text": [
      "Epoch=2/6:  37%|███▋      | 81/217 [00:18<00:16,  8.09it/s, acc=0.5, loss=0.7]    "
     ]
    },
    {
     "name": "stdout",
     "output_type": "stream",
     "text": [
      "Got 14 / 32 with accuracy 43.75\n",
      "Got 16 / 32 with accuracy 50.00\n"
     ]
    },
    {
     "name": "stderr",
     "output_type": "stream",
     "text": [
      "Epoch=2/6:  37%|███▋      | 81/217 [00:18<00:16,  8.09it/s, acc=0.406, loss=0.697]"
     ]
    },
    {
     "name": "stdout",
     "output_type": "stream",
     "text": [
      "Got 19 / 32 with accuracy 59.38\n",
      "Got 13 / 32 with accuracy 40.62\n"
     ]
    },
    {
     "name": "stderr",
     "output_type": "stream",
     "text": [
      "                                                                                  \r"
     ]
    },
    {
     "ename": "KeyboardInterrupt",
     "evalue": "",
     "output_type": "error",
     "traceback": [
      "\u001b[0;31m---------------------------------------------------------------------------\u001b[0m",
      "\u001b[0;31mKeyboardInterrupt\u001b[0m                         Traceback (most recent call last)",
      "\u001b[0;32m/tmp/ipykernel_7086/3688061281.py\u001b[0m in \u001b[0;36m<module>\u001b[0;34m\u001b[0m\n\u001b[1;32m      1\u001b[0m \u001b[0mepoch\u001b[0m \u001b[0;34m=\u001b[0m\u001b[0;36m6\u001b[0m\u001b[0;34m\u001b[0m\u001b[0;34m\u001b[0m\u001b[0m\n\u001b[0;32m----> 2\u001b[0;31m \u001b[0mmodel\u001b[0m\u001b[0;34m=\u001b[0m\u001b[0mfinetune\u001b[0m\u001b[0;34m(\u001b[0m\u001b[0mepoch\u001b[0m\u001b[0;34m,\u001b[0m \u001b[0mdataloader\u001b[0m\u001b[0;34m,\u001b[0m \u001b[0mmodel\u001b[0m\u001b[0;34m,\u001b[0m \u001b[0mloss_fn\u001b[0m\u001b[0;34m,\u001b[0m \u001b[0moptimizer\u001b[0m\u001b[0;34m)\u001b[0m\u001b[0;34m\u001b[0m\u001b[0;34m\u001b[0m\u001b[0m\n\u001b[0m",
      "\u001b[0;32m/tmp/ipykernel_7086/1031421551.py\u001b[0m in \u001b[0;36mfinetune\u001b[0;34m(epochs, dataloader, model, loss_fn, optimizer)\u001b[0m\n\u001b[1;32m     36\u001b[0m             \u001b[0moptimizer\u001b[0m\u001b[0;34m.\u001b[0m\u001b[0mstep\u001b[0m\u001b[0;34m(\u001b[0m\u001b[0;34m)\u001b[0m\u001b[0;34m\u001b[0m\u001b[0;34m\u001b[0m\u001b[0m\n\u001b[1;32m     37\u001b[0m \u001b[0;34m\u001b[0m\u001b[0m\n\u001b[0;32m---> 38\u001b[0;31m             \u001b[0mrunning_loss\u001b[0m \u001b[0;34m+=\u001b[0m \u001b[0mloss\u001b[0m\u001b[0;34m.\u001b[0m\u001b[0mitem\u001b[0m\u001b[0;34m(\u001b[0m\u001b[0;34m)\u001b[0m\u001b[0;34m\u001b[0m\u001b[0;34m\u001b[0m\u001b[0m\n\u001b[0m\u001b[1;32m     39\u001b[0m \u001b[0;34m\u001b[0m\u001b[0m\n\u001b[1;32m     40\u001b[0m             \u001b[0moutput\u001b[0m \u001b[0;34m=\u001b[0m \u001b[0moutput\u001b[0m\u001b[0;34m.\u001b[0m\u001b[0mcpu\u001b[0m\u001b[0;34m(\u001b[0m\u001b[0;34m)\u001b[0m\u001b[0;34m\u001b[0m\u001b[0;34m\u001b[0m\u001b[0m\n",
      "\u001b[0;31mKeyboardInterrupt\u001b[0m: "
     ]
    }
   ],
   "source": [
    "epoch =6\n",
    "model=finetune(epoch, dataloader, model, loss_fn, optimizer)"
   ]
  },
  {
   "cell_type": "code",
   "execution_count": null,
   "id": "2a0167a1",
   "metadata": {},
   "outputs": [],
   "source": []
  },
  {
   "cell_type": "code",
   "execution_count": null,
   "id": "bca03106",
   "metadata": {},
   "outputs": [],
   "source": []
  }
 ],
 "metadata": {
  "kernelspec": {
   "display_name": "pytorch_bert_T",
   "language": "python",
   "name": "python3"
  },
  "language_info": {
   "codemirror_mode": {
    "name": "ipython",
    "version": 3
   },
   "file_extension": ".py",
   "mimetype": "text/x-python",
   "name": "python",
   "nbconvert_exporter": "python",
   "pygments_lexer": "ipython3",
   "version": "3.7.16"
  }
 },
 "nbformat": 4,
 "nbformat_minor": 5
}
